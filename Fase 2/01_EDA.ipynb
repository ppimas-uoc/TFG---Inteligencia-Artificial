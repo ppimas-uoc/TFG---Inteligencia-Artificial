{
 "cells": [
  {
   "metadata": {},
   "cell_type": "markdown",
   "source": [
    "<!--Header-->\n",
    "<div style=\"background: #555\">\n",
    "    <div style=\"background-color: #fff; color: black; padding-bottom: 20px; display: flex; justify-content: space-between; align-items: flex-start;\">\n",
    "        <div style=\"width: 60%;\">\n",
    "            <h1 style=\"margin: 16px\">TFG - Inteligencia Artificial</h1>\n",
    "            <p style=\"margin: 16px; padding-bottom: 0\">Junio de 2025</p>\n",
    "        </div>\n",
    "        <div style=\"width: 40%; text-align: right\">\n",
    "            <img src=\"https://www.uoc.edu/portal/_resources/common/imatges/marca_UOC/UOC_Masterbrand.jpg\" alt=\"Logo UOC\">\n",
    "        </div>\n",
    "    </div>\n",
    "    <h2 style=\"color: #fff; text-align: justify; padding: 0 16px\">Aplicación de técnicas de IA fiable en la predicción del índice de calidad de vida en personas con tratamiento oncológico mediante aprendizaje automático.</h2>\n",
    "    <div style=\"padding: 20px; color: #fff; display: flex; flex-direction: column;\">\n",
    "        <h4 style=\"margin: 0 0; padding: 0 0\">Pablo Pimàs Verge</h4>\n",
    "        <h5 style=\"margin: 0 0; padding: 0 0\">Grado en Ingeniería Informática</h5>\n",
    "        <h5 style=\"margin: 0 0 4px; padding: 0 0\">Inteligencia Artificial</h5>\n",
    "        <h4 style=\"margin: 8px 0 4px; padding: 0 0\">Dra. María Moreno de Castro</h4>\n",
    "        <h4 style=\"margin: 0 0; padding: 0 0\">Dr. Friman Sanchéz</h4>\n",
    "    </div>\n",
    "</div>\n",
    "\n",
    "<!--/Header-->"
   ],
   "id": "62f7c742d689e0b9"
  },
  {
   "metadata": {},
   "cell_type": "markdown",
   "source": "# Fase 2",
   "id": "8fa52f4aa4444633"
  },
  {
   "metadata": {},
   "cell_type": "markdown",
   "source": [
    "# Análisis exploratorio y preparación de los datos\n",
    "En el presente cuaderno se realizarán las tareas de exploración y preparación de los datos que serán utilizados durante todo el trabajo. Este proceso corresponde a la fase 2 del marco CRISP-DM y la planificación del proyecto."
   ],
   "id": "8a77807f92f26ee"
  },
  {
   "metadata": {},
   "cell_type": "markdown",
   "source": [
    "Los datos han sido compartidos por Gebert Pimrapat en el repositorio Mendeley Data [1] y corresponden a la encuesta realizada por la Charité – Universitätsmedizin Berlin, a mujeres en el inicio del tratamiento de cáncer de mama, entre 2016 y 2021. \n",
    "\n",
    "La encuesta consta de tres partes: datos basales socio-demográficos, formulario genérico para cáncer EORTC QLQ-C30 y módulo específico para cáncer de mama EORTC QLQ-C23. Para el trabajo se utilizarán los datos referentes a los índices calculados del formulario QLQ-C30. Por lo tanto, los objetivos del análisis y la preparación son los siguientes:\n",
    "\n",
    "- Separar el conjunto en los 3 dominios: basales, C30 y C23\n",
    "- Para el conjunto C30:\n",
    "    - Analizar y explorar la calidad de los datos\n",
    "    - Separar los valores faltantes en otro subconjunto para su posterior utilización\n",
    "    - Preparar las variables para la utilización de los algoritmos basados en árboles de decisión\n",
    "    - Convertir la variable objetivo en 3 clases para la clasificación\n",
    "    - Separar los datos en los conjuntos de: entrenamiento, prueba, validación y calibración"
   ],
   "id": "78df88709b806fd2"
  },
  {
   "metadata": {},
   "cell_type": "markdown",
   "source": [
    "### Librerías y Configuración\n",
    "- Importación del software necesario para la manipulación, visualización y transformación de los datos. \n",
    "- Configuración del cuaderno y opciones de visualización"
   ],
   "id": "5d9c99215cc9983e"
  },
  {
   "metadata": {
    "ExecuteTime": {
     "end_time": "2025-03-25T08:41:19.266929Z",
     "start_time": "2025-03-25T08:41:19.259844Z"
    }
   },
   "cell_type": "code",
   "source": [
    "# Importaciones\n",
    "import pandas as pd\n",
    "import numpy as np\n",
    "import seaborn as sns\n",
    "import matplotlib.pyplot as plt\n",
    "import warnings\n",
    "from sklearn.preprocessing import KBinsDiscretizer\n"
   ],
   "id": "7df9140457caed5e",
   "outputs": [],
   "execution_count": 157
  },
  {
   "metadata": {
    "ExecuteTime": {
     "end_time": "2025-03-24T20:07:12.530044Z",
     "start_time": "2025-03-24T20:07:12.526713Z"
    }
   },
   "cell_type": "code",
   "source": [
    "# Configuraciones\n",
    "%matplotlib inline\n",
    "warnings.filterwarnings(\"ignore\")\n",
    "pd.options.display.float_format = '{:.2f}'.format\n",
    "plt.rc('font', size=10)"
   ],
   "id": "c9c087cbfeed1c52",
   "outputs": [],
   "execution_count": 129
  },
  {
   "metadata": {},
   "cell_type": "markdown",
   "source": "### Carga de los datos",
   "id": "2e44cfe2f556cba1"
  },
  {
   "metadata": {
    "collapsed": true,
    "ExecuteTime": {
     "end_time": "2025-03-24T20:07:13.368048Z",
     "start_time": "2025-03-24T20:07:12.544131Z"
    }
   },
   "cell_type": "code",
   "source": [
    "\n",
    "file_path = \"../data/Data_PROM_Baseline.xlsx\"\n",
    "df = pd.read_excel(file_path, sheet_name=\"Sheet1\")"
   ],
   "id": "initial_id",
   "outputs": [],
   "execution_count": 130
  },
  {
   "metadata": {},
   "cell_type": "markdown",
   "source": "## 1 Análisis Exploratorio",
   "id": "59a1a76361e2da"
  },
  {
   "metadata": {},
   "cell_type": "markdown",
   "source": "### 1.1 Información",
   "id": "68bf64aa0e9deb38"
  },
  {
   "metadata": {
    "ExecuteTime": {
     "end_time": "2025-03-24T20:07:13.391372Z",
     "start_time": "2025-03-24T20:07:13.383086Z"
    }
   },
   "cell_type": "code",
   "source": "df.info()",
   "id": "65da833539b6a07c",
   "outputs": [
    {
     "name": "stdout",
     "output_type": "stream",
     "text": [
      "<class 'pandas.core.frame.DataFrame'>\n",
      "RangeIndex: 1727 entries, 0 to 1726\n",
      "Data columns (total 67 columns):\n",
      " #   Column                      Non-Null Count  Dtype  \n",
      "---  ------                      --------------  -----  \n",
      " 0   id                          1727 non-null   int64  \n",
      " 1   age                         1478 non-null   float64\n",
      " 2   weight                      1542 non-null   float64\n",
      " 3   height                      1538 non-null   float64\n",
      " 4   bmi                         1537 non-null   float64\n",
      " 5   maritial_status             1482 non-null   float64\n",
      " 6   education                   1540 non-null   float64\n",
      " 7   alcohol                     1544 non-null   float64\n",
      " 8   smokingstatus               1544 non-null   float64\n",
      " 9   bust                        1544 non-null   float64\n",
      " 10  cupsize                     1544 non-null   float64\n",
      " 11  menstruation_firsttime_age  1544 non-null   float64\n",
      " 12  menopause_yn                1544 non-null   float64\n",
      " 13  birth_number                992 non-null    float64\n",
      " 14  pregnancy_number            1544 non-null   float64\n",
      " 15  comorb_none                 1544 non-null   float64\n",
      " 16  comorb_heart                1544 non-null   float64\n",
      " 17  comorb_hypertension         1544 non-null   float64\n",
      " 18  comorb_paod                 1544 non-null   float64\n",
      " 19  comorb_lung                 1544 non-null   float64\n",
      " 20  comorb_diabetes             1544 non-null   float64\n",
      " 21  comorb_kidneys              1544 non-null   float64\n",
      " 22  comorb_liver                1544 non-null   float64\n",
      " 23  comorb_stroke               1544 non-null   float64\n",
      " 24  comorb_neuological          1544 non-null   float64\n",
      " 25  comorb_cancerlast5years     1544 non-null   float64\n",
      " 26  comorb_depression           1544 non-null   float64\n",
      " 27  comorb_gastrointestinal     1544 non-null   float64\n",
      " 28  comorb_endometriosis        1544 non-null   float64\n",
      " 29  comorb_arthritis            1544 non-null   float64\n",
      " 30  comorb_incontinence         1544 non-null   float64\n",
      " 31  comorb_uti                  1544 non-null   float64\n",
      " 32  cancer_breast               1544 non-null   float64\n",
      " 33  contraceptive_kind          1544 non-null   float64\n",
      " 34  pre_op                      1544 non-null   float64\n",
      " 35  cancer_kind_family_1        1544 non-null   float64\n",
      " 36  breastcancer_first          1727 non-null   object \n",
      " 37  diagnosis                   1727 non-null   int64  \n",
      " 38  lateral                     1002 non-null   float64\n",
      " 39  histotype                   611 non-null    float64\n",
      " 40  gradeinv                    633 non-null    float64\n",
      " 41  erstatus                    630 non-null    float64\n",
      " 42  prstatus                    629 non-null    float64\n",
      " 43  her2status                  625 non-null    float64\n",
      " 44  ql                          1478 non-null   float64\n",
      " 45  pf                          1478 non-null   float64\n",
      " 46  rf                          1478 non-null   float64\n",
      " 47  ef                          1478 non-null   float64\n",
      " 48  cf                          1478 non-null   float64\n",
      " 49  sf                          1478 non-null   float64\n",
      " 50  fa                          1478 non-null   float64\n",
      " 51  nv                          1478 non-null   float64\n",
      " 52  pa                          1478 non-null   float64\n",
      " 53  dy                          1478 non-null   float64\n",
      " 54  sl                          1478 non-null   float64\n",
      " 55  ap                          1478 non-null   float64\n",
      " 56  co                          1478 non-null   float64\n",
      " 57  di                          1478 non-null   float64\n",
      " 58  fi                          1478 non-null   float64\n",
      " 59  brbi                        1474 non-null   float64\n",
      " 60  brsef                       1474 non-null   float64\n",
      " 61  brsee                       910 non-null    float64\n",
      " 62  brfu                        1474 non-null   float64\n",
      " 63  brst                        1474 non-null   float64\n",
      " 64  brbs                        1474 non-null   float64\n",
      " 65  bras                        1474 non-null   float64\n",
      " 66  brhl                        513 non-null    float64\n",
      "dtypes: float64(64), int64(2), object(1)\n",
      "memory usage: 904.1+ KB\n"
     ]
    }
   ],
   "execution_count": 131
  },
  {
   "metadata": {},
   "cell_type": "markdown",
   "source": [
    "Los datos están compuestos por 66 variables y 1727 observaciones. Contienen datos faltantes en todas las variables y son de tipo numérico a excepción de breastcancer_first que es de tipo objeto. \n",
    "\n",
    "A continuación, se ordenan las variables por dominio y se detalla el diccionario de datos."
   ],
   "id": "414faa6bdfca98ff"
  },
  {
   "metadata": {},
   "cell_type": "markdown",
   "source": "### Diccionario",
   "id": "ae652846abd9ea9b"
  },
  {
   "metadata": {},
   "cell_type": "markdown",
   "source": [
    "\n",
    "\n",
    "#### Atributos Basales\n",
    "Información sobre aspectos socio-demográficos y la historia clínica de las pacientes en el momento del registro.\n",
    "\n",
    "- Age: edad, en años\n",
    "- weight: peso, en kg\n",
    "- height: altura, en cm\n",
    "- bmi: índice de masa corporal, en kg/cm$^2$\n",
    "- marital_status: estado civil, 0: soltera | 1: en pareja | 2: separada | 3: viuda\n",
    "- education: nivel de educación, 0: bajo | 1: medio | 2: alto\n",
    "- alcohol: frecuencia del consumo de alcohol, 0: nunca | 1: ocasional | 2: semanal | 3: diaria\n",
    "- smokingstatus: fumadora, 0: no | 1: si | 2: ex fumadora\n",
    "- bust: dimensión del busto, de 1 a 13 hace referencia a los centímetros desde 65 hasta 125 con saltos de 5\n",
    "- cupsize: medida del busto con relación al contorno del dorso, de 1 a 9 hace referencia a las tallas desde AA hasta H\n",
    "- menstruation_firsttime_age: edad de la primera menstruación, en años\n",
    "- menopause_yn: estado de menopausia, 0: no | 1: si\n",
    "- birth_number: cantidad de partos, de 0 a 7 indica el número, 8 indica más de 7\n",
    "- pregnancy_number: cantidad de embarazos, de 0 a 7 indica el número, 8 indica más de 7\n",
    "- comorb_none: tiene comorbidades, 0: no | 1: si\n",
    "- comorb_heart: enfermedades coronarias, 0: no | 1: si\n",
    "- comorb_hypertension: hipertensión, 0: no | 1: si\n",
    "- comorb_paod: oclusión periférica arterial, 0: no | 1: si\n",
    "- comorb_diabetes: diabetes, 0: no | 1: si\n",
    "- comorb_kidney: enfermedades renales, 0: no | 1: si\n",
    "- comorb_liver: enfermedades hepáticas, 0: no | 1: si\n",
    "- comorb_stroke: ACV o derrames, 0: no | 1: si\n",
    "- comorb_neuological: enfermedades neurológicas, 0: no | 1: si\n",
    "- comorb_cancerlast5years: cancer en los últimos 5 años, 0: no | 1: si\n",
    "- comorb_depression: depresión, 0: no | 1: si\n",
    "- comorb_gastrointestinal: enfermedades gastrointestinales, 0: no | 1: si\n",
    "- comorb_endometriosis: endometriosis, 0: no | 1: si\n",
    "- comorb_arthritis: artritis, 0: no | 1: si\n",
    "- comorb_incontinence: incontinencia, 0: no | 1: si\n",
    "- comorb_uti: infecciones urinarias, 0: no | 1: si\n",
    "- cancer_breast: cancer de mama en los últimos 5 años, 0: no | 1: si\n",
    "- contraceptive_kind: uso de anticonceptivos, 0: ninguno | 1: oral | 2: inyección | 3: diafragma | 4: Hormonal | 5: implante | 6: Cobre DIU\n",
    "- pre_op: cirugía de cancer previa, 0: no | 1: si\n",
    "- cancer_kind_family_1: anttecedentes familiares de cancer de útero o mama, 0: no | 1: si\n",
    "- breastcancer_first: primer cancer de mama, 0: no | 1: si\n",
    "- diagnosis: diagnóstico, 1: cancer de mama | 2: DCIS | 3: fibroadenoma | 4: otros tipos\n",
    "- lateral: lado afectado, 0: izquierdo | 2: derecho | 3: ambos\n",
    "- histotype: tipo histológico de cancer, 0: tumor primario | 1: invasivo ductal | 2: invasivo lobular | 888: otro | 999: desconocido\n",
    "- gradeinv: grado, 0: grado 1 | 1: grado 2 | 2: grado 3 | 3: no especificado\n",
    "- erstatus: estado del receptor de estrógeno, 0: negativo | 1: positivo | 2: sin medición | 999: desconocido\n",
    "- prstatus: estado del receptor de progesterona, 0: negativo | 1: positivo | 2: sin medición | 999: desconocido\n",
    "- her2status: estado del receptor de HER2, 0: negativo | 1: positivo | 2: sin medición | 999: desconocido"
   ],
   "id": "ca0f0d7f79c78521"
  },
  {
   "metadata": {},
   "cell_type": "markdown",
   "source": [
    "#### EORTC QLQ-C30\n",
    "Índices calculados del formulario genérico para cáncer (CORE), son de tipo decimal (float) continuo.\n",
    "\n",
    "- **ql: índice de calidad de vida (QoL), variable objetivo**\n",
    "- pf: funcionamiento físico\n",
    "- rf: funcionamiento de rol (actividades habituales y responsabilidades cotidianas laborales y domésticas)\n",
    "- ef: funcionamiento emocional\n",
    "- cf: funcionamiento cognitivo\n",
    "- sf: funcionamiento social\n",
    "- fa: fatiga\n",
    "- nv: náuseas y vómitos\n",
    "- pa: dolor\n",
    "- dy: disnea (dificultad para respirar)\n",
    "- sl: insomnio\n",
    "- ap: pérdida de apetito\n",
    "- co: constipado\n",
    "- di: diarrea\n",
    "- fi: dificultades financieras"
   ],
   "id": "6cea002dbac3cbcf"
  },
  {
   "metadata": {},
   "cell_type": "markdown",
   "source": [
    "#### EORTC QLQ-C23\n",
    "Índices calculados del formulario específico para cancer de mama, son de tipo decimal (float) continuo.\n",
    "\n",
    "- brbi: imagen del propio cuerpo\n",
    "- brsef: funcionamiento sexual\n",
    "- brsee: disfrute sexual\n",
    "- brfu: perspectiva de futuro\n",
    "- brst: síntomas en el brazo\n",
    "- brbs: síntomas en la mama\n",
    "- bras: efectos secundarios de la terápia sistémica\n",
    "- brhl: afectación por la caída del cabello\n"
   ],
   "id": "16eefb6e962445fb"
  },
  {
   "metadata": {},
   "cell_type": "markdown",
   "source": [
    "Los datos no contienen atributos con información personal susceptible, o que permita identificar de alguna manera a las personas participantes del estudio, de acuerdo con la normativa europea de protección de datos.\n",
    "Como se ha dicho, centraremos el enfoque en el dominio del formulario C30, que contiene la variable objetivo ql de tipo decimal \n"
   ],
   "id": "4344d9e6bd2f3444"
  },
  {
   "metadata": {},
   "cell_type": "markdown",
   "source": [
    "### 1.2 Análisis y exploración: Dominio EORTC QLQ-C30\n",
    "\n",
    "En primer lugar, se creará un dataframe con los atributos del dominio C30 y se analizará su composición. Posteriormente se realizará la exploración de cada una de las variables. Por último, se realizará el análisis en conjunto."
   ],
   "id": "1ce3fb2dbda148c5"
  },
  {
   "metadata": {
    "ExecuteTime": {
     "end_time": "2025-03-24T20:07:13.458224Z",
     "start_time": "2025-03-24T20:07:13.454186Z"
    }
   },
   "cell_type": "code",
   "source": [
    "# Creación del dataframe C30\n",
    "columns_C30 = ['ql', 'pf', 'rf', 'ef', 'cf', 'sf', 'fa', 'nv', 'pa', 'dy', 'sl', 'ap', 'co', 'di', 'fi']\n",
    "df_qlq_C30 = df[columns_C30]\n",
    "# Asignación de nombres semánticos a las columnas\n",
    "df_qlq_C30 = df_qlq_C30.rename(columns= {\n",
    "    'ql': 'QoL',\n",
    "    'pf': 'Physical functioning',\n",
    "    'rf': 'Role functioning',\n",
    "    'ef': 'Emotional functioning',\n",
    "    'cf': 'Cognitive functioning',\n",
    "    'sf': 'Social functioning',\n",
    "    'fa': 'Fatigue',\n",
    "    'nv': 'Nausea and vomiting',\n",
    "    'pa': 'Pain',\n",
    "    'dy': 'Dyspnea',\n",
    "    'sl': 'Insomnia',\n",
    "    'ap': 'Appetite loss',\n",
    "    'co': 'Constipation',\n",
    "    'di': 'Diarrhea',\n",
    "    'fi': 'Financial difficulties',\n",
    "})"
   ],
   "id": "5749d7146d0952a5",
   "outputs": [],
   "execution_count": 132
  },
  {
   "metadata": {
    "ExecuteTime": {
     "end_time": "2025-03-24T20:07:13.481971Z",
     "start_time": "2025-03-24T20:07:13.477165Z"
    }
   },
   "cell_type": "code",
   "source": "df_qlq_C30.info()",
   "id": "a4bf75bf8bd986f1",
   "outputs": [
    {
     "name": "stdout",
     "output_type": "stream",
     "text": [
      "<class 'pandas.core.frame.DataFrame'>\n",
      "RangeIndex: 1727 entries, 0 to 1726\n",
      "Data columns (total 15 columns):\n",
      " #   Column                  Non-Null Count  Dtype  \n",
      "---  ------                  --------------  -----  \n",
      " 0   QoL                     1478 non-null   float64\n",
      " 1   Physical functioning    1478 non-null   float64\n",
      " 2   Role functioning        1478 non-null   float64\n",
      " 3   Emotional functioning   1478 non-null   float64\n",
      " 4   Cognitive functioning   1478 non-null   float64\n",
      " 5   Social functioning      1478 non-null   float64\n",
      " 6   Fatigue                 1478 non-null   float64\n",
      " 7   Nausea and vomiting     1478 non-null   float64\n",
      " 8   Pain                    1478 non-null   float64\n",
      " 9   Dyspnea                 1478 non-null   float64\n",
      " 10  Insomnia                1478 non-null   float64\n",
      " 11  Appetite loss           1478 non-null   float64\n",
      " 12  Constipation            1478 non-null   float64\n",
      " 13  Diarrhea                1478 non-null   float64\n",
      " 14  Financial difficulties  1478 non-null   float64\n",
      "dtypes: float64(15)\n",
      "memory usage: 202.5 KB\n"
     ]
    }
   ],
   "execution_count": 133
  },
  {
   "metadata": {},
   "cell_type": "markdown",
   "source": "El conjunto contiene 1727 observaciones compuestas por 15 atributos de tipo decimal (float) y de las cuales 1478 no contienen valores nulos.",
   "id": "6ebe99de9079a83b"
  },
  {
   "metadata": {},
   "cell_type": "markdown",
   "source": "### 1.2.1 Análisis univariable",
   "id": "525265d0c807a691"
  },
  {
   "metadata": {},
   "cell_type": "markdown",
   "source": "A continuación, se definen las funciones auxiliares utilizadas para facilitar la exploración de las variables",
   "id": "80d96160a702150d"
  },
  {
   "metadata": {
    "ExecuteTime": {
     "end_time": "2025-03-24T20:07:13.500964Z",
     "start_time": "2025-03-24T20:07:13.496507Z"
    }
   },
   "cell_type": "code",
   "source": [
    "def inspect_column(df: pd.DataFrame, column_name: str, max_unique: int = 50) -> pd.DataFrame:\n",
    "    \"\"\"\n",
    "    Returns a DataFrame with two columns (\"Property\" and \"Value\"). Each row contains \n",
    "    a piece of information about the specified column, such as data type, null counts, \n",
    "    duplicates, descriptive statistics, and a limited set of unique values.\n",
    "    \"\"\"\n",
    "    col_data = df[column_name]\n",
    "    data_type = col_data.dtype\n",
    "    null_count = col_data.isnull().sum()\n",
    "    desc_series = col_data.describe(include='all')\n",
    "\n",
    "    if not isinstance(desc_series, pd.Series):\n",
    "        desc_series = desc_series.iloc[0]\n",
    "\n",
    "    desc_dict = {}\n",
    "    \n",
    "    for key, val in desc_series.items():\n",
    "        desc_dict[f\"{key}\"] = val\n",
    "\n",
    "    unique_vals = col_data.dropna().unique().round(2)\n",
    "\n",
    "    if np.issubdtype(col_data.dtype, np.number):\n",
    "        unique_vals = np.sort(unique_vals)\n",
    "        \n",
    "    unique_vals_limited = unique_vals[:max_unique].tolist()\n",
    "\n",
    "    info_dict = {\n",
    "        \"column_name\": column_name,\n",
    "        \"dtype\": str(data_type),\n",
    "        \"null_count\": null_count,\n",
    "        \"unique_values\": unique_vals_limited,\n",
    "        \"total_unique_values\": len(unique_vals),\n",
    "        \"skew\": df[column_name].skew(),\n",
    "    }\n",
    "    info_dict.update(desc_dict)\n",
    "\n",
    "    df_result = pd.DataFrame(\n",
    "        list(info_dict.items()),\n",
    "        columns=[\"Property\", \"Value\"]\n",
    "    )\n",
    "\n",
    "    return df_result"
   ],
   "id": "2b6b12b769b41829",
   "outputs": [],
   "execution_count": 134
  },
  {
   "metadata": {},
   "cell_type": "markdown",
   "source": "#### QoL - variable objetivo ",
   "id": "ed347dc6e2c78a6a"
  },
  {
   "metadata": {
    "ExecuteTime": {
     "end_time": "2025-03-24T20:07:13.520440Z",
     "start_time": "2025-03-24T20:07:13.514813Z"
    }
   },
   "cell_type": "code",
   "source": [
    "# Inspección de la información relevante\n",
    "inspect_column(df_qlq_C30, 'QoL')"
   ],
   "id": "19551a6656fe72db",
   "outputs": [
    {
     "data": {
      "text/plain": [
       "               Property                                              Value\n",
       "0           column_name                                                QoL\n",
       "1                 dtype                                            float64\n",
       "2            null_count                                                249\n",
       "3         unique_values  [0.0, 8.33, 16.67, 25.0, 33.33, 41.67, 50.0, 5...\n",
       "4   total_unique_values                                                 13\n",
       "5                  skew                                              -0.68\n",
       "6                 count                                            1478.00\n",
       "7                  mean                                              67.45\n",
       "8                   std                                              22.40\n",
       "9                   min                                               0.00\n",
       "10                  25%                                              50.00\n",
       "11                  50%                                              66.67\n",
       "12                  75%                                              83.33\n",
       "13                  max                                             100.00"
      ],
      "text/html": [
       "<div>\n",
       "<style scoped>\n",
       "    .dataframe tbody tr th:only-of-type {\n",
       "        vertical-align: middle;\n",
       "    }\n",
       "\n",
       "    .dataframe tbody tr th {\n",
       "        vertical-align: top;\n",
       "    }\n",
       "\n",
       "    .dataframe thead th {\n",
       "        text-align: right;\n",
       "    }\n",
       "</style>\n",
       "<table border=\"1\" class=\"dataframe\">\n",
       "  <thead>\n",
       "    <tr style=\"text-align: right;\">\n",
       "      <th></th>\n",
       "      <th>Property</th>\n",
       "      <th>Value</th>\n",
       "    </tr>\n",
       "  </thead>\n",
       "  <tbody>\n",
       "    <tr>\n",
       "      <th>0</th>\n",
       "      <td>column_name</td>\n",
       "      <td>QoL</td>\n",
       "    </tr>\n",
       "    <tr>\n",
       "      <th>1</th>\n",
       "      <td>dtype</td>\n",
       "      <td>float64</td>\n",
       "    </tr>\n",
       "    <tr>\n",
       "      <th>2</th>\n",
       "      <td>null_count</td>\n",
       "      <td>249</td>\n",
       "    </tr>\n",
       "    <tr>\n",
       "      <th>3</th>\n",
       "      <td>unique_values</td>\n",
       "      <td>[0.0, 8.33, 16.67, 25.0, 33.33, 41.67, 50.0, 5...</td>\n",
       "    </tr>\n",
       "    <tr>\n",
       "      <th>4</th>\n",
       "      <td>total_unique_values</td>\n",
       "      <td>13</td>\n",
       "    </tr>\n",
       "    <tr>\n",
       "      <th>5</th>\n",
       "      <td>skew</td>\n",
       "      <td>-0.68</td>\n",
       "    </tr>\n",
       "    <tr>\n",
       "      <th>6</th>\n",
       "      <td>count</td>\n",
       "      <td>1478.00</td>\n",
       "    </tr>\n",
       "    <tr>\n",
       "      <th>7</th>\n",
       "      <td>mean</td>\n",
       "      <td>67.45</td>\n",
       "    </tr>\n",
       "    <tr>\n",
       "      <th>8</th>\n",
       "      <td>std</td>\n",
       "      <td>22.40</td>\n",
       "    </tr>\n",
       "    <tr>\n",
       "      <th>9</th>\n",
       "      <td>min</td>\n",
       "      <td>0.00</td>\n",
       "    </tr>\n",
       "    <tr>\n",
       "      <th>10</th>\n",
       "      <td>25%</td>\n",
       "      <td>50.00</td>\n",
       "    </tr>\n",
       "    <tr>\n",
       "      <th>11</th>\n",
       "      <td>50%</td>\n",
       "      <td>66.67</td>\n",
       "    </tr>\n",
       "    <tr>\n",
       "      <th>12</th>\n",
       "      <td>75%</td>\n",
       "      <td>83.33</td>\n",
       "    </tr>\n",
       "    <tr>\n",
       "      <th>13</th>\n",
       "      <td>max</td>\n",
       "      <td>100.00</td>\n",
       "    </tr>\n",
       "  </tbody>\n",
       "</table>\n",
       "</div>"
      ]
     },
     "execution_count": 135,
     "metadata": {},
     "output_type": "execute_result"
    }
   ],
   "execution_count": 135
  },
  {
   "metadata": {},
   "cell_type": "code",
   "outputs": [],
   "execution_count": null,
   "source": "",
   "id": "ed9198e5a0b13395"
  },
  {
   "metadata": {},
   "cell_type": "markdown",
   "source": "El atributo contiene 249 valores nulos, los mismos que contiene el conjunto. De sus valores únicos, se puede ver que toma cantidades decimales, pero no continuas. Es decir, se corresponden con una serie que va de 0 a 100 con incrementos aproximados de 8,33; indicando que se trata de una escala lineal. La media se ubica ligeramente desplazada a la derecha y el cuartil inferior indica que hay un sesgo a la izquierda, confirmado por el valor negativo de la asimetría (skew). A continuación, se visualiza la distribución para una mejor comprensión:",
   "id": "2a1c7471e1ec3b0f"
  },
  {
   "metadata": {
    "ExecuteTime": {
     "end_time": "2025-03-24T20:07:13.733122Z",
     "start_time": "2025-03-24T20:07:13.556858Z"
    }
   },
   "cell_type": "code",
   "source": "sns.histplot(data=df_qlq_C30, x='QoL', kde=True)",
   "id": "11dadafb0cbd57d1",
   "outputs": [
    {
     "data": {
      "text/plain": [
       "<Axes: xlabel='QoL', ylabel='Count'>"
      ]
     },
     "execution_count": 136,
     "metadata": {},
     "output_type": "execute_result"
    },
    {
     "data": {
      "text/plain": [
       "<Figure size 640x480 with 1 Axes>"
      ],
      "image/png": "[encoded data removed]"
     },
     "metadata": {},
     "output_type": "display_data"
    }
   ],
   "execution_count": 136
  },
  {
   "metadata": {},
   "cell_type": "markdown",
   "source": "Se pueden ver tres picos principales en la curva de densidad: entre la media y el cuartil superior. Dado que el objetivo es aplicar una clasificación multiclase a la variable. Será necesario agrupar los valores en categorías más amplias que los valores numéricos que toma. Retornaremos este punto en la fase de preparación de los datos.",
   "id": "f02f75bee5a969b9"
  },
  {
   "metadata": {
    "ExecuteTime": {
     "end_time": "2025-03-25T08:58:56.547009Z",
     "start_time": "2025-03-25T08:58:56.534965Z"
    }
   },
   "cell_type": "code",
   "source": [
    "discretizer = KBinsDiscretizer(n_bins=3, encode='ordinal', strategy='uniform')\n",
    "df_qlq_C30_null = df_qlq_C30[df_qlq_C30.isnull().any(axis=1)].copy()\n",
    "df_qlq_C30.dropna(axis=0, inplace=True)\n",
    "df_qlq_C30['QoL_bins'] = discretizer.fit_transform(df_qlq_C30[['QoL']])\n",
    "df_qlq_C30"
   ],
   "id": "bc953bb05e8c9456",
   "outputs": [
    {
     "data": {
      "text/plain": [
       "        QoL  Physical functioning  Role functioning  Emotional functioning  \\\n",
       "1     50.00                 93.33            100.00                  25.00   \n",
       "2     50.00                100.00            100.00                  66.67   \n",
       "3     33.33                 40.00             66.67                  16.67   \n",
       "4     50.00                 86.67             83.33                  25.00   \n",
       "5    100.00                100.00            100.00                  25.00   \n",
       "...     ...                   ...               ...                    ...   \n",
       "1722  66.67                100.00            100.00                  91.67   \n",
       "1723  66.67                100.00            100.00                  83.33   \n",
       "1724  83.33                100.00            100.00                 100.00   \n",
       "1725  83.33                100.00            100.00                  91.67   \n",
       "1726  83.33                 93.33            100.00                  75.00   \n",
       "\n",
       "      Cognitive functioning  Social functioning  Fatigue  Nausea and vomiting  \\\n",
       "1                     16.67               83.33    66.67                 0.00   \n",
       "2                     72.22               83.33    22.22                16.67   \n",
       "3                     16.67               50.00    66.67                50.00   \n",
       "4                     44.44               83.33    44.44                16.67   \n",
       "5                     50.00               83.33     0.00                 0.00   \n",
       "...                     ...                 ...      ...                  ...   \n",
       "1722                  94.44              100.00     0.00                 0.00   \n",
       "1723                  83.33              100.00    22.22                 0.00   \n",
       "1724                 100.00              100.00     0.00                 0.00   \n",
       "1725                  94.44              100.00     0.00                 0.00   \n",
       "1726                  83.33              100.00    22.22                 0.00   \n",
       "\n",
       "      Pain  Dyspnea  Insomnia  Appetite loss  Constipation  Diarrhea  \\\n",
       "1    33.33     0.00    100.00          66.67          0.00      0.00   \n",
       "2     0.00     0.00     66.67          33.33          0.00      0.00   \n",
       "3    66.67     0.00     66.67           0.00         66.67      0.00   \n",
       "4    16.67    33.33     33.33           0.00          0.00     33.33   \n",
       "5     0.00     0.00      0.00           0.00          0.00      0.00   \n",
       "...    ...      ...       ...            ...           ...       ...   \n",
       "1722  0.00     0.00      0.00           0.00          0.00      0.00   \n",
       "1723  0.00     0.00      0.00          33.33          0.00     33.33   \n",
       "1724  0.00     0.00      0.00           0.00          0.00      0.00   \n",
       "1725  0.00     0.00      0.00           0.00          0.00      0.00   \n",
       "1726  0.00     0.00     33.33           0.00          0.00      0.00   \n",
       "\n",
       "      Financial difficulties  QoL_bins  \n",
       "1                       0.00      1.00  \n",
       "2                       0.00      1.00  \n",
       "3                      66.67      0.00  \n",
       "4                       0.00      1.00  \n",
       "5                       0.00      2.00  \n",
       "...                      ...       ...  \n",
       "1722                    0.00      1.00  \n",
       "1723                   33.33      1.00  \n",
       "1724                    0.00      2.00  \n",
       "1725                    0.00      2.00  \n",
       "1726                    0.00      2.00  \n",
       "\n",
       "[1478 rows x 16 columns]"
      ],
      "text/html": [
       "<div>\n",
       "<style scoped>\n",
       "    .dataframe tbody tr th:only-of-type {\n",
       "        vertical-align: middle;\n",
       "    }\n",
       "\n",
       "    .dataframe tbody tr th {\n",
       "        vertical-align: top;\n",
       "    }\n",
       "\n",
       "    .dataframe thead th {\n",
       "        text-align: right;\n",
       "    }\n",
       "</style>\n",
       "<table border=\"1\" class=\"dataframe\">\n",
       "  <thead>\n",
       "    <tr style=\"text-align: right;\">\n",
       "      <th></th>\n",
       "      <th>QoL</th>\n",
       "      <th>Physical functioning</th>\n",
       "      <th>Role functioning</th>\n",
       "      <th>Emotional functioning</th>\n",
       "      <th>Cognitive functioning</th>\n",
       "      <th>Social functioning</th>\n",
       "      <th>Fatigue</th>\n",
       "      <th>Nausea and vomiting</th>\n",
       "      <th>Pain</th>\n",
       "      <th>Dyspnea</th>\n",
       "      <th>Insomnia</th>\n",
       "      <th>Appetite loss</th>\n",
       "      <th>Constipation</th>\n",
       "      <th>Diarrhea</th>\n",
       "      <th>Financial difficulties</th>\n",
       "      <th>QoL_bins</th>\n",
       "    </tr>\n",
       "  </thead>\n",
       "  <tbody>\n",
       "    <tr>\n",
       "      <th>1</th>\n",
       "      <td>50.00</td>\n",
       "      <td>93.33</td>\n",
       "      <td>100.00</td>\n",
       "      <td>25.00</td>\n",
       "      <td>16.67</td>\n",
       "      <td>83.33</td>\n",
       "      <td>66.67</td>\n",
       "      <td>0.00</td>\n",
       "      <td>33.33</td>\n",
       "      <td>0.00</td>\n",
       "      <td>100.00</td>\n",
       "      <td>66.67</td>\n",
       "      <td>0.00</td>\n",
       "      <td>0.00</td>\n",
       "      <td>0.00</td>\n",
       "      <td>1.00</td>\n",
       "    </tr>\n",
       "    <tr>\n",
       "      <th>2</th>\n",
       "      <td>50.00</td>\n",
       "      <td>100.00</td>\n",
       "      <td>100.00</td>\n",
       "      <td>66.67</td>\n",
       "      <td>72.22</td>\n",
       "      <td>83.33</td>\n",
       "      <td>22.22</td>\n",
       "      <td>16.67</td>\n",
       "      <td>0.00</td>\n",
       "      <td>0.00</td>\n",
       "      <td>66.67</td>\n",
       "      <td>33.33</td>\n",
       "      <td>0.00</td>\n",
       "      <td>0.00</td>\n",
       "      <td>0.00</td>\n",
       "      <td>1.00</td>\n",
       "    </tr>\n",
       "    <tr>\n",
       "      <th>3</th>\n",
       "      <td>33.33</td>\n",
       "      <td>40.00</td>\n",
       "      <td>66.67</td>\n",
       "      <td>16.67</td>\n",
       "      <td>16.67</td>\n",
       "      <td>50.00</td>\n",
       "      <td>66.67</td>\n",
       "      <td>50.00</td>\n",
       "      <td>66.67</td>\n",
       "      <td>0.00</td>\n",
       "      <td>66.67</td>\n",
       "      <td>0.00</td>\n",
       "      <td>66.67</td>\n",
       "      <td>0.00</td>\n",
       "      <td>66.67</td>\n",
       "      <td>0.00</td>\n",
       "    </tr>\n",
       "    <tr>\n",
       "      <th>4</th>\n",
       "      <td>50.00</td>\n",
       "      <td>86.67</td>\n",
       "      <td>83.33</td>\n",
       "      <td>25.00</td>\n",
       "      <td>44.44</td>\n",
       "      <td>83.33</td>\n",
       "      <td>44.44</td>\n",
       "      <td>16.67</td>\n",
       "      <td>16.67</td>\n",
       "      <td>33.33</td>\n",
       "      <td>33.33</td>\n",
       "      <td>0.00</td>\n",
       "      <td>0.00</td>\n",
       "      <td>33.33</td>\n",
       "      <td>0.00</td>\n",
       "      <td>1.00</td>\n",
       "    </tr>\n",
       "    <tr>\n",
       "      <th>5</th>\n",
       "      <td>100.00</td>\n",
       "      <td>100.00</td>\n",
       "      <td>100.00</td>\n",
       "      <td>25.00</td>\n",
       "      <td>50.00</td>\n",
       "      <td>83.33</td>\n",
       "      <td>0.00</td>\n",
       "      <td>0.00</td>\n",
       "      <td>0.00</td>\n",
       "      <td>0.00</td>\n",
       "      <td>0.00</td>\n",
       "      <td>0.00</td>\n",
       "      <td>0.00</td>\n",
       "      <td>0.00</td>\n",
       "      <td>0.00</td>\n",
       "      <td>2.00</td>\n",
       "    </tr>\n",
       "    <tr>\n",
       "      <th>...</th>\n",
       "      <td>...</td>\n",
       "      <td>...</td>\n",
       "      <td>...</td>\n",
       "      <td>...</td>\n",
       "      <td>...</td>\n",
       "      <td>...</td>\n",
       "      <td>...</td>\n",
       "      <td>...</td>\n",
       "      <td>...</td>\n",
       "      <td>...</td>\n",
       "      <td>...</td>\n",
       "      <td>...</td>\n",
       "      <td>...</td>\n",
       "      <td>...</td>\n",
       "      <td>...</td>\n",
       "      <td>...</td>\n",
       "    </tr>\n",
       "    <tr>\n",
       "      <th>1722</th>\n",
       "      <td>66.67</td>\n",
       "      <td>100.00</td>\n",
       "      <td>100.00</td>\n",
       "      <td>91.67</td>\n",
       "      <td>94.44</td>\n",
       "      <td>100.00</td>\n",
       "      <td>0.00</td>\n",
       "      <td>0.00</td>\n",
       "      <td>0.00</td>\n",
       "      <td>0.00</td>\n",
       "      <td>0.00</td>\n",
       "      <td>0.00</td>\n",
       "      <td>0.00</td>\n",
       "      <td>0.00</td>\n",
       "      <td>0.00</td>\n",
       "      <td>1.00</td>\n",
       "    </tr>\n",
       "    <tr>\n",
       "      <th>1723</th>\n",
       "      <td>66.67</td>\n",
       "      <td>100.00</td>\n",
       "      <td>100.00</td>\n",
       "      <td>83.33</td>\n",
       "      <td>83.33</td>\n",
       "      <td>100.00</td>\n",
       "      <td>22.22</td>\n",
       "      <td>0.00</td>\n",
       "      <td>0.00</td>\n",
       "      <td>0.00</td>\n",
       "      <td>0.00</td>\n",
       "      <td>33.33</td>\n",
       "      <td>0.00</td>\n",
       "      <td>33.33</td>\n",
       "      <td>33.33</td>\n",
       "      <td>1.00</td>\n",
       "    </tr>\n",
       "    <tr>\n",
       "      <th>1724</th>\n",
       "      <td>83.33</td>\n",
       "      <td>100.00</td>\n",
       "      <td>100.00</td>\n",
       "      <td>100.00</td>\n",
       "      <td>100.00</td>\n",
       "      <td>100.00</td>\n",
       "      <td>0.00</td>\n",
       "      <td>0.00</td>\n",
       "      <td>0.00</td>\n",
       "      <td>0.00</td>\n",
       "      <td>0.00</td>\n",
       "      <td>0.00</td>\n",
       "      <td>0.00</td>\n",
       "      <td>0.00</td>\n",
       "      <td>0.00</td>\n",
       "      <td>2.00</td>\n",
       "    </tr>\n",
       "    <tr>\n",
       "      <th>1725</th>\n",
       "      <td>83.33</td>\n",
       "      <td>100.00</td>\n",
       "      <td>100.00</td>\n",
       "      <td>91.67</td>\n",
       "      <td>94.44</td>\n",
       "      <td>100.00</td>\n",
       "      <td>0.00</td>\n",
       "      <td>0.00</td>\n",
       "      <td>0.00</td>\n",
       "      <td>0.00</td>\n",
       "      <td>0.00</td>\n",
       "      <td>0.00</td>\n",
       "      <td>0.00</td>\n",
       "      <td>0.00</td>\n",
       "      <td>0.00</td>\n",
       "      <td>2.00</td>\n",
       "    </tr>\n",
       "    <tr>\n",
       "      <th>1726</th>\n",
       "      <td>83.33</td>\n",
       "      <td>93.33</td>\n",
       "      <td>100.00</td>\n",
       "      <td>75.00</td>\n",
       "      <td>83.33</td>\n",
       "      <td>100.00</td>\n",
       "      <td>22.22</td>\n",
       "      <td>0.00</td>\n",
       "      <td>0.00</td>\n",
       "      <td>0.00</td>\n",
       "      <td>33.33</td>\n",
       "      <td>0.00</td>\n",
       "      <td>0.00</td>\n",
       "      <td>0.00</td>\n",
       "      <td>0.00</td>\n",
       "      <td>2.00</td>\n",
       "    </tr>\n",
       "  </tbody>\n",
       "</table>\n",
       "<p>1478 rows × 16 columns</p>\n",
       "</div>"
      ]
     },
     "execution_count": 178,
     "metadata": {},
     "output_type": "execute_result"
    }
   ],
   "execution_count": 178
  },
  {
   "metadata": {
    "ExecuteTime": {
     "end_time": "2025-03-25T08:58:57.167998Z",
     "start_time": "2025-03-25T08:58:57.164306Z"
    }
   },
   "cell_type": "code",
   "source": "df_qlq_C30['QoL_bins'].value_counts()",
   "id": "3bf49d690a149805",
   "outputs": [
    {
     "data": {
      "text/plain": [
       "QoL_bins\n",
       "2.00    706\n",
       "1.00    605\n",
       "0.00    167\n",
       "Name: count, dtype: int64"
      ]
     },
     "execution_count": 179,
     "metadata": {},
     "output_type": "execute_result"
    }
   ],
   "execution_count": 179
  },
  {
   "metadata": {
    "ExecuteTime": {
     "end_time": "2025-03-25T08:58:58.265931Z",
     "start_time": "2025-03-25T08:58:58.115155Z"
    }
   },
   "cell_type": "code",
   "source": [
    "# Gráfica de la distribución\n",
    "sns.histplot(data=df_qlq_C30, x='QoL_bins', kde=True)"
   ],
   "id": "b1d06d07b268aee0",
   "outputs": [
    {
     "data": {
      "text/plain": [
       "<Axes: xlabel='QoL_bins', ylabel='Count'>"
      ]
     },
     "execution_count": 180,
     "metadata": {},
     "output_type": "execute_result"
    },
    {
     "data": {
      "text/plain": [
       "<Figure size 640x480 with 1 Axes>"
      ],
      "image/png": "[encoded data removed]"
     },
     "metadata": {},
     "output_type": "display_data"
    }
   ],
   "execution_count": 180
  },
  {
   "metadata": {},
   "cell_type": "markdown",
   "source": "    ### Physical Functioning",
   "id": "acd8d59fc96798ac"
  },
  {
   "metadata": {
    "ExecuteTime": {
     "end_time": "2025-03-24T20:11:29.334100Z",
     "start_time": "2025-03-24T20:11:29.327378Z"
    }
   },
   "cell_type": "code",
   "source": [
    "# Inspección de la información relevante\n",
    "inspect_column(df_qlq_C30, 'Physical functioning')"
   ],
   "id": "6b7ebfe0c7e9c2fb",
   "outputs": [
    {
     "data": {
      "text/plain": [
       "               Property                                              Value\n",
       "0           column_name                               Physical functioning\n",
       "1                 dtype                                            float64\n",
       "2            null_count                                                249\n",
       "3         unique_values  [6.67, 13.33, 20.0, 26.67, 33.33, 40.0, 46.67,...\n",
       "4   total_unique_values                                                 15\n",
       "5                  skew                                              -1.95\n",
       "6                 count                                            1478.00\n",
       "7                  mean                                              88.37\n",
       "8                   std                                              17.49\n",
       "9                   min                                               6.67\n",
       "10                  25%                                              86.67\n",
       "11                  50%                                              93.33\n",
       "12                  75%                                             100.00\n",
       "13                  max                                             100.00"
      ],
      "text/html": [
       "<div>\n",
       "<style scoped>\n",
       "    .dataframe tbody tr th:only-of-type {\n",
       "        vertical-align: middle;\n",
       "    }\n",
       "\n",
       "    .dataframe tbody tr th {\n",
       "        vertical-align: top;\n",
       "    }\n",
       "\n",
       "    .dataframe thead th {\n",
       "        text-align: right;\n",
       "    }\n",
       "</style>\n",
       "<table border=\"1\" class=\"dataframe\">\n",
       "  <thead>\n",
       "    <tr style=\"text-align: right;\">\n",
       "      <th></th>\n",
       "      <th>Property</th>\n",
       "      <th>Value</th>\n",
       "    </tr>\n",
       "  </thead>\n",
       "  <tbody>\n",
       "    <tr>\n",
       "      <th>0</th>\n",
       "      <td>column_name</td>\n",
       "      <td>Physical functioning</td>\n",
       "    </tr>\n",
       "    <tr>\n",
       "      <th>1</th>\n",
       "      <td>dtype</td>\n",
       "      <td>float64</td>\n",
       "    </tr>\n",
       "    <tr>\n",
       "      <th>2</th>\n",
       "      <td>null_count</td>\n",
       "      <td>249</td>\n",
       "    </tr>\n",
       "    <tr>\n",
       "      <th>3</th>\n",
       "      <td>unique_values</td>\n",
       "      <td>[6.67, 13.33, 20.0, 26.67, 33.33, 40.0, 46.67,...</td>\n",
       "    </tr>\n",
       "    <tr>\n",
       "      <th>4</th>\n",
       "      <td>total_unique_values</td>\n",
       "      <td>15</td>\n",
       "    </tr>\n",
       "    <tr>\n",
       "      <th>5</th>\n",
       "      <td>skew</td>\n",
       "      <td>-1.95</td>\n",
       "    </tr>\n",
       "    <tr>\n",
       "      <th>6</th>\n",
       "      <td>count</td>\n",
       "      <td>1478.00</td>\n",
       "    </tr>\n",
       "    <tr>\n",
       "      <th>7</th>\n",
       "      <td>mean</td>\n",
       "      <td>88.37</td>\n",
       "    </tr>\n",
       "    <tr>\n",
       "      <th>8</th>\n",
       "      <td>std</td>\n",
       "      <td>17.49</td>\n",
       "    </tr>\n",
       "    <tr>\n",
       "      <th>9</th>\n",
       "      <td>min</td>\n",
       "      <td>6.67</td>\n",
       "    </tr>\n",
       "    <tr>\n",
       "      <th>10</th>\n",
       "      <td>25%</td>\n",
       "      <td>86.67</td>\n",
       "    </tr>\n",
       "    <tr>\n",
       "      <th>11</th>\n",
       "      <td>50%</td>\n",
       "      <td>93.33</td>\n",
       "    </tr>\n",
       "    <tr>\n",
       "      <th>12</th>\n",
       "      <td>75%</td>\n",
       "      <td>100.00</td>\n",
       "    </tr>\n",
       "    <tr>\n",
       "      <th>13</th>\n",
       "      <td>max</td>\n",
       "      <td>100.00</td>\n",
       "    </tr>\n",
       "  </tbody>\n",
       "</table>\n",
       "</div>"
      ]
     },
     "execution_count": 142,
     "metadata": {},
     "output_type": "execute_result"
    }
   ],
   "execution_count": 142
  },
  {
   "metadata": {},
   "cell_type": "markdown",
   "source": "La variable contiene 249 valores nulos, al igual que la anterior, esto puede ser un indicativo de que se trata de las mismas filas. Los valores que toma conforman una serie con un incremento aproximado de 6,67 de 0 a 100. En cuanto a la distribución, se encuentra claramente desplazada hacia los valores altos, como muestra la asimetría de -1,95 y el cuartil superior en el máximo.",
   "id": "76c1478efb760fa8"
  },
  {
   "metadata": {
    "ExecuteTime": {
     "end_time": "2025-03-24T20:19:49.383253Z",
     "start_time": "2025-03-24T20:19:49.208737Z"
    }
   },
   "cell_type": "code",
   "source": [
    "# Gráfica de la distribución\n",
    "sns.histplot(data=df_qlq_C30, x='Physical functioning', kde=True)"
   ],
   "id": "823f1c77185318d6",
   "outputs": [
    {
     "data": {
      "text/plain": [
       "<Axes: xlabel='Physical functioning', ylabel='Count'>"
      ]
     },
     "execution_count": 143,
     "metadata": {},
     "output_type": "execute_result"
    },
    {
     "data": {
      "text/plain": [
       "<Figure size 640x480 with 1 Axes>"
      ],
      "image/png": "[encoded data removed]"
     },
     "metadata": {},
     "output_type": "display_data"
    }
   ],
   "execution_count": 143
  },
  {
   "metadata": {},
   "cell_type": "markdown",
   "source": [
    "El gráfico muestra claramente la cola hacia la izquierda y la concentración de la densidad en los valores máximos. Una distribución de este tipo puede implicar una posible baja discriminación de la variable. Este efecto se conoce como ceiling (techo) y provoca que la variable aporte poca información en las divisiones de un árbol de decisión. Algunas posibles consecuencias son:\n",
    "\n",
    "- Podría no ofrecer una disminución significativa de la impureza (o ganancia de información).\n",
    "- El modelo no distingue bien los casos que podrían variar levemente dentro del rango superior con mayor densidad.\n",
    "- Podría generar ramas con muy pocos datos (la cola de la distribución) o simplemente descartar esta variable en favor de otras con mayor poder de discriminación.\n",
    "- Si el modelo decide usar la mínima variación de la cola para dividir, puede terminar en divisiones muy específicas que no generalicen bien.\n",
    "\n",
    "Para mitigar este problema, volveremos a este punto en la preparación de los datos para aplicar transformaciones no lineales como Box-Cox y Yeo-Johnson con el fin de \"estirar\" la distribución."
   ],
   "id": "913d24822e15da63"
  },
  {
   "metadata": {},
   "cell_type": "markdown",
   "source": "### Role Functioning",
   "id": "23eb070dc6e8fe85"
  },
  {
   "metadata": {
    "ExecuteTime": {
     "end_time": "2025-03-24T21:01:58.719093Z",
     "start_time": "2025-03-24T21:01:58.709174Z"
    }
   },
   "cell_type": "code",
   "source": [
    "# Inspección de la información relevante\n",
    "inspect_column(df_qlq_C30, 'Role functioning')"
   ],
   "id": "7fb8557b8551bb0d",
   "outputs": [
    {
     "data": {
      "text/plain": [
       "               Property                                           Value\n",
       "0           column_name                                Role functioning\n",
       "1                 dtype                                         float64\n",
       "2            null_count                                             249\n",
       "3         unique_values  [0.0, 16.67, 33.33, 50.0, 66.67, 83.33, 100.0]\n",
       "4   total_unique_values                                               7\n",
       "5                  skew                                           -2.26\n",
       "6                 count                                         1478.00\n",
       "7                  mean                                           88.48\n",
       "8                   std                                           23.34\n",
       "9                   min                                            0.00\n",
       "10                  25%                                           83.33\n",
       "11                  50%                                          100.00\n",
       "12                  75%                                          100.00\n",
       "13                  max                                          100.00"
      ],
      "text/html": [
       "<div>\n",
       "<style scoped>\n",
       "    .dataframe tbody tr th:only-of-type {\n",
       "        vertical-align: middle;\n",
       "    }\n",
       "\n",
       "    .dataframe tbody tr th {\n",
       "        vertical-align: top;\n",
       "    }\n",
       "\n",
       "    .dataframe thead th {\n",
       "        text-align: right;\n",
       "    }\n",
       "</style>\n",
       "<table border=\"1\" class=\"dataframe\">\n",
       "  <thead>\n",
       "    <tr style=\"text-align: right;\">\n",
       "      <th></th>\n",
       "      <th>Property</th>\n",
       "      <th>Value</th>\n",
       "    </tr>\n",
       "  </thead>\n",
       "  <tbody>\n",
       "    <tr>\n",
       "      <th>0</th>\n",
       "      <td>column_name</td>\n",
       "      <td>Role functioning</td>\n",
       "    </tr>\n",
       "    <tr>\n",
       "      <th>1</th>\n",
       "      <td>dtype</td>\n",
       "      <td>float64</td>\n",
       "    </tr>\n",
       "    <tr>\n",
       "      <th>2</th>\n",
       "      <td>null_count</td>\n",
       "      <td>249</td>\n",
       "    </tr>\n",
       "    <tr>\n",
       "      <th>3</th>\n",
       "      <td>unique_values</td>\n",
       "      <td>[0.0, 16.67, 33.33, 50.0, 66.67, 83.33, 100.0]</td>\n",
       "    </tr>\n",
       "    <tr>\n",
       "      <th>4</th>\n",
       "      <td>total_unique_values</td>\n",
       "      <td>7</td>\n",
       "    </tr>\n",
       "    <tr>\n",
       "      <th>5</th>\n",
       "      <td>skew</td>\n",
       "      <td>-2.26</td>\n",
       "    </tr>\n",
       "    <tr>\n",
       "      <th>6</th>\n",
       "      <td>count</td>\n",
       "      <td>1478.00</td>\n",
       "    </tr>\n",
       "    <tr>\n",
       "      <th>7</th>\n",
       "      <td>mean</td>\n",
       "      <td>88.48</td>\n",
       "    </tr>\n",
       "    <tr>\n",
       "      <th>8</th>\n",
       "      <td>std</td>\n",
       "      <td>23.34</td>\n",
       "    </tr>\n",
       "    <tr>\n",
       "      <th>9</th>\n",
       "      <td>min</td>\n",
       "      <td>0.00</td>\n",
       "    </tr>\n",
       "    <tr>\n",
       "      <th>10</th>\n",
       "      <td>25%</td>\n",
       "      <td>83.33</td>\n",
       "    </tr>\n",
       "    <tr>\n",
       "      <th>11</th>\n",
       "      <td>50%</td>\n",
       "      <td>100.00</td>\n",
       "    </tr>\n",
       "    <tr>\n",
       "      <th>12</th>\n",
       "      <td>75%</td>\n",
       "      <td>100.00</td>\n",
       "    </tr>\n",
       "    <tr>\n",
       "      <th>13</th>\n",
       "      <td>max</td>\n",
       "      <td>100.00</td>\n",
       "    </tr>\n",
       "  </tbody>\n",
       "</table>\n",
       "</div>"
      ]
     },
     "execution_count": 144,
     "metadata": {},
     "output_type": "execute_result"
    }
   ],
   "execution_count": 144
  },
  {
   "metadata": {},
   "cell_type": "markdown",
   "source": "La variable contiene 249 valores nulos, como las anteriores. Los valores corresponden a una serie con intervalos de aproximadamente 16,67. Además, como en el caso anterior, la distribución muestra una densidad concentrada en los valores altos con cola hacia la izquierda, potenciada aún más por la menor cantidad de valores únicos.",
   "id": "e24544f245177f40"
  },
  {
   "metadata": {
    "ExecuteTime": {
     "end_time": "2025-03-24T21:05:52.610567Z",
     "start_time": "2025-03-24T21:05:52.436320Z"
    }
   },
   "cell_type": "code",
   "source": "sns.histplot(data=df_qlq_C30, x='Role functioning', kde=True)",
   "id": "678c1734c2dac3b7",
   "outputs": [
    {
     "data": {
      "text/plain": [
       "<Axes: xlabel='Role functioning', ylabel='Count'>"
      ]
     },
     "execution_count": 145,
     "metadata": {},
     "output_type": "execute_result"
    },
    {
     "data": {
      "text/plain": [
       "<Figure size 640x480 with 1 Axes>"
      ],
      "image/png": "[encoded data removed]"
     },
     "metadata": {},
     "output_type": "display_data"
    }
   ],
   "execution_count": 145
  },
  {
   "metadata": {
    "ExecuteTime": {
     "end_time": "2025-03-24T21:13:17.746615Z",
     "start_time": "2025-03-24T21:13:17.741698Z"
    }
   },
   "cell_type": "code",
   "source": "",
   "id": "a085ae93d337aee9",
   "outputs": [
    {
     "data": {
      "text/plain": [
       "Role functioning\n",
       "100.00    1081\n",
       "66.67      126\n",
       "83.33      118\n",
       "50.00       50\n",
       "33.33       50\n",
       "0.00        37\n",
       "16.67       16\n",
       "Name: count, dtype: int64"
      ]
     },
     "execution_count": 156,
     "metadata": {},
     "output_type": "execute_result"
    }
   ],
   "execution_count": 156
  },
  {
   "metadata": {},
   "cell_type": "code",
   "outputs": [],
   "execution_count": null,
   "source": "",
   "id": "6a31a97e35312f08"
  }
 ],
 "metadata": {
  "kernelspec": {
   "display_name": "Python 3",
   "language": "python",
   "name": "python3"
  },
  "language_info": {
   "codemirror_mode": {
    "name": "ipython",
    "version": 2
   },
   "file_extension": ".py",
   "mimetype": "text/x-python",
   "name": "python",
   "nbconvert_exporter": "python",
   "pygments_lexer": "ipython2",
   "version": "2.7.6"
  }
 },
 "nbformat": 4,
 "nbformat_minor": 5
}
