{
 "cells": [
  {
   "metadata": {},
   "cell_type": "markdown",
   "source": [
    "<!--Header-->\n",
    "<div style=\"background-color: #fff; color: black\">\n",
    "<div style=\"padding-bottom: 20px; display: flex; justify-content: space-between; align-items: flex-start;\">\n",
    "<div style=\"width: 60%;\">\n",
    "<h1 style=\"margin: 16px\">TFG - Inteligencia Artificial</h1>\n",
    "<p style=\"margin: 16px; padding-bottom: 0\">Junio de 2025</p>\n",
    "</div>\n",
    "<div style=\"width: 40%; text-align: right\">\n",
    "<img src=\"https://www.uoc.edu/portal/_resources/common/imatges/marca_UOC/UOC_Masterbrand.jpg\" alt=\"Logo UOC\">\n",
    "</div>\n",
    "</div>\n",
    "<h2 style=\"text-align: justify; padding: 0 16px\">Aplicación de técnicas de IA fiable en la predicción del índice de calidad de vida en personas con tratamiento oncológico mediante aprendizaje automático.</h2>\n",
    "<div style=\"background-color: #000; width: 100%; height: 2px; margin: 24px 0\"></div>\n",
    "<div style=\"padding: 20px\">\n",
    "<h4 style=\"margin: 0 0; padding: 0 0\">Pablo Pimàs Verge</h4>\n",
    "<h5 style=\"margin: 0 0; padding: 0 0\">Grado en Ingeniería Informática</h5>\n",
    "<h5 style=\"margin: 0 0 4px; padding: 0 0\">Inteligencia Artificial</h5>\n",
    "<h4 style=\"margin: 8px 0 4px; padding: 0 0\">Dra. María Moreno de Castro</h4>\n",
    "<h4 style=\"margin: 0 0; padding: 0 0\">Dr. Friman Sanchéz</h4>\n",
    "</div>\n",
    "</div>"
   ],
   "id": "175e046087189fbc"
  },
  {
   "metadata": {},
   "cell_type": "markdown",
   "source": [
    "# Fase 2\n",
    "#### Tercera Parte\n",
    "\n",
    "## Explicabilidad del modelo"
   ],
   "id": "ca5a543cd07b2a44"
  },
  {
   "metadata": {},
   "cell_type": "markdown",
   "source": "### Objetivos",
   "id": "78ae59309ee7e4c0"
  },
  {
   "metadata": {},
   "cell_type": "markdown",
   "source": "### Índice",
   "id": "b8428fc2a080e246"
  },
  {
   "metadata": {},
   "cell_type": "markdown",
   "source": "### Importaciones",
   "id": "d51a52b9b3d5bea8"
  },
  {
   "metadata": {
    "ExecuteTime": {
     "end_time": "2025-04-16T18:57:59.306839Z",
     "start_time": "2025-04-16T18:57:59.303517Z"
    }
   },
   "cell_type": "code",
   "source": [
    "# Importaciones de librerías básicas\n",
    "import joblib\n",
    "import pandas as pd\n",
    "import numpy as np\n",
    "from matplotlib import pyplot as plt\n",
    "import seaborn as sns\n",
    "import warnings\n",
    "\n",
    "# Importaciones de Scikit-learn \n",
    "from sklearn.metrics import mutual_info_score, roc_auc_score\n",
    "from sklearn.ensemble import RandomForestClassifier\n",
    "from sklearn.metrics import accuracy_score, recall_score, precision_score, f1_score, auc\n",
    "from sklearn.metrics import ConfusionMatrixDisplay, classification_report, confusion_matrix\n",
    "from sklearn.model_selection import FixedThresholdClassifier\n",
    "from sklearn.inspection import permutation_importance\n",
    "from sklearn.inspection import PartialDependenceDisplay\n",
    "\n",
    "# Librerías XAI\n",
    "import shap\n",
    "from lime import lime_tabular\n",
    "import dice_ml as dice"
   ],
   "id": "9e2111bbce9e420b",
   "outputs": [],
   "execution_count": 9
  },
  {
   "metadata": {},
   "cell_type": "markdown",
   "source": "### Carga de los datos",
   "id": "dabf53a884ed5990"
  },
  {
   "metadata": {
    "ExecuteTime": {
     "end_time": "2025-04-16T19:11:17.552934Z",
     "start_time": "2025-04-16T19:11:17.543371Z"
    }
   },
   "cell_type": "code",
   "source": [
    "X_train = pd.read_csv('./data/QLQ_C30_C23_X_train.csv')\n",
    "X_test = pd.read_csv('./data/QLQ_C30_C23_X_test.csv')\n",
    "X_cal = pd.read_csv('./data/QLQ_C30_C23_X_cal.csv')\n",
    "y_train = pd.read_csv('./data/QLQ_C30_C23_y_train.csv').squeeze()\n",
    "y_test = pd.read_csv('./data/QLQ_C30_C23_y_test.csv').squeeze()\n",
    "y_cal = pd.read_csv('./data/QLQ_C30_C23_y_cal.csv').squeeze()"
   ],
   "id": "1c25ea6d0cf174ec",
   "outputs": [],
   "execution_count": 12
  },
  {
   "metadata": {},
   "cell_type": "markdown",
   "source": "### Carga del modelo seleccionado",
   "id": "9496d532d6ffab5"
  },
  {
   "metadata": {
    "ExecuteTime": {
     "end_time": "2025-04-16T18:58:02.545399Z",
     "start_time": "2025-04-16T18:58:02.509114Z"
    }
   },
   "cell_type": "code",
   "source": "clf_model = joblib.load('./models/CatBoost_model.joblib')",
   "id": "8da263c6f5fcc745",
   "outputs": [],
   "execution_count": 10
  },
  {
   "metadata": {},
   "cell_type": "markdown",
   "source": "## 1. Permutation feature importance",
   "id": "4cacf58d6a1cb5b1"
  },
  {
   "metadata": {
    "ExecuteTime": {
     "end_time": "2025-04-16T19:00:34.256806Z",
     "start_time": "2025-04-16T19:00:34.252811Z"
    }
   },
   "cell_type": "code",
   "source": "sorted_indices = clf_model.feature_importances_.argsort()",
   "id": "724a2abf75f9429f",
   "outputs": [],
   "execution_count": 11
  },
  {
   "metadata": {},
   "cell_type": "code",
   "outputs": [],
   "execution_count": null,
   "source": "",
   "id": "71515654e5b0c839"
  }
 ],
 "metadata": {
  "kernelspec": {
   "display_name": "Python 3",
   "language": "python",
   "name": "python3"
  },
  "language_info": {
   "codemirror_mode": {
    "name": "ipython",
    "version": 2
   },
   "file_extension": ".py",
   "mimetype": "text/x-python",
   "name": "python",
   "nbconvert_exporter": "python",
   "pygments_lexer": "ipython2",
   "version": "2.7.6"
  }
 },
 "nbformat": 4,
 "nbformat_minor": 5
}
