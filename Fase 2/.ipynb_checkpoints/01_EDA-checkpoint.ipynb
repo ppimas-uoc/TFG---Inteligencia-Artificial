{
 "cells": [
  {
   "metadata": {},
   "cell_type": "markdown",
   "source": [
    "<!--Header-->\n",
    "<div style=\"background: #555\">\n",
    "    <div style=\"background-color: #fff; color: black; padding-bottom: 20px; display: flex; justify-content: space-between; align-items: flex-start;\">\n",
    "        <div style=\"width: 60%;\">\n",
    "            <h1 style=\"margin: 16px\">TFG - Inteligencia Artificial</h1>\n",
    "            <p style=\"margin: 16px; padding-bottom: 0\">Junio de 2025</p>\n",
    "        </div>\n",
    "        <div style=\"width: 40%; text-align: right\">\n",
    "            <img src=\"https://www.uoc.edu/portal/_resources/common/imatges/marca_UOC/UOC_Masterbrand.jpg\" alt=\"Logo UOC\">\n",
    "        </div>\n",
    "    </div>\n",
    "    <h2 style=\"color: #fff; text-align: justify; padding: 0 16px\">Aplicación de técnicas de IA fiable en la predicción del índice de calidad de vida en personas con tratamiento oncológico mediante aprendizaje automático.</h2>\n",
    "    <div style=\"padding: 20px; color: #fff\">\n",
    "        <h4 style=\"margin: 0 0; padding: 0 0\">Pablo Pimàs Verge</h4>\n",
    "        <h5 style=\"margin: 0 0; padding: 0 0\">Grado en Ingeniería Informática</h5>\n",
    "        <h5 style=\"margin: 0 0 4px; padding: 0 0\">Inteligencia Artificial</h5>\n",
    "        <h4 style=\"margin: 8px 0 4px; padding: 0 0\">Dra. María Moreno de Castro</h4>\n",
    "        <h4 style=\"margin: 0 0; padding: 0 0\">Dr. Friman Sanchéz</h4>\n",
    "    </div>\n",
    "</div>\n",
    "\n",
    "<!--/Header-->"
   ],
   "id": "62f7c742d689e0b9"
  },
  {
   "metadata": {},
   "cell_type": "markdown",
   "source": "# Fase 2",
   "id": "8fa52f4aa4444633"
  },
  {
   "metadata": {},
   "cell_type": "markdown",
   "source": [
    "# Análisis exploratorio y preparación de los datos\n",
    "En el presente cuaderno se realizarán las tareas de exploración y preparación de los datos que serán utilizados durante todo el trabajo. Este proceso corresponde a la fase 2 del marco CRISP-DM y la planificación del proyecto."
   ],
   "id": "8a77807f92f26ee"
  },
  {
   "metadata": {},
   "cell_type": "markdown",
   "source": [
    "Los datos han sido compartidos por Gebert Pimrapat en el repositorio Mendeley Data [1] y corresponden a la encuesta realizada por la Charité – Universitätsmedizin Berlin, a mujeres en el inicio del tratamiento de cáncer de mama, entre 2016 y 2021. \n",
    "\n",
    "La encuesta consta de tres partes: datos basales socio-demográficos, formulario genérico para cáncer EORTC QLQ-C30 y módulo específico para cáncer de mama EORTC QLQ-C23. Para el trabajo se utilizarán los datos referentes a los índices calculados del formulario QLQ-C30. Por lo tanto, los objetivos del análisis y la preparación son los siguientes:\n",
    "\n",
    "- Separar el conjunto en los 3 dominios: basales, C30 y C23\n",
    "- Para el conjunto C30 y C23:\n",
    "    - Analizar y explorar la calidad de los datos\n",
    "    - Separar los valores faltantes en otro subconjunto para su posterior utilización\n",
    "    - Preparar las variables para la utilización de los algoritmos basados en árboles de decisión\n",
    "    - Convertir la variable objetivo en 3 clases para la clasificación\n",
    "    - Separar los datos en los conjuntos de: entrenamiento, prueba, validación y calibración"
   ],
   "id": "78df88709b806fd2"
  },
  {
   "metadata": {},
   "cell_type": "markdown",
   "source": [
    "### Librerías y Configuración\n",
    "- Importación del software necesario para la manipulación, visualización y transformación de los datos. \n",
    "- Configuración del cuaderno y opciones de visualización"
   ],
   "id": "5d9c99215cc9983e"
  },
  {
   "metadata": {
    "ExecuteTime": {
     "end_time": "2025-03-25T21:52:29.702679Z",
     "start_time": "2025-03-25T21:52:29.633057Z"
    }
   },
   "cell_type": "code",
   "source": [
    "# Importaciones\n",
    "import pandas as pd\n",
    "import math\n",
    "import numpy as np\n",
    "import seaborn as sns\n",
    "import matplotlib.pyplot as plt\n",
    "import warnings\n",
    "from sklearn.preprocessing import KBinsDiscretizer"
   ],
   "id": "7df9140457caed5e",
   "outputs": [],
   "execution_count": 1
  },
  {
   "metadata": {},
   "cell_type": "code",
   "source": [
    "# Configuraciones\n",
    "%matplotlib inline\n",
    "warnings.filterwarnings(\"ignore\")\n",
    "pd.options.display.float_format = '{:.2f}'.format\n",
    "plt.rc('font', size=10)"
   ],
   "id": "c9c087cbfeed1c52",
   "outputs": [],
   "execution_count": null
  },
  {
   "metadata": {},
   "cell_type": "markdown",
   "source": "### Carga de los datos",
   "id": "2e44cfe2f556cba1"
  },
  {
   "metadata": {
    "collapsed": true
   },
   "cell_type": "code",
   "source": [
    "\n",
    "file_path = \"../data/Data_PROM_Baseline.xlsx\"\n",
    "df = pd.read_excel(file_path, sheet_name=\"Sheet1\")"
   ],
   "id": "initial_id",
   "outputs": [],
   "execution_count": null
  },
  {
   "metadata": {},
   "cell_type": "markdown",
   "source": "## 1 Análisis Exploratorio",
   "id": "59a1a76361e2da"
  },
  {
   "metadata": {},
   "cell_type": "markdown",
   "source": [
    "### 1.1 Funciones auxiliares\n",
    "Definición de funciones para el análisis y la exploración de los datos"
   ],
   "id": "8a696339ef51f864"
  },
  {
   "metadata": {},
   "cell_type": "code",
   "source": [
    "# Inspeccionar una columna de un dataframe\n",
    "def inspect_column(df: pd.DataFrame, column_name: str, max_unique: int = 50) -> pd.DataFrame:\n",
    "    \"\"\"\n",
    "    Returns a DataFrame with two columns (\"Property\" and \"Value\"). Each row contains \n",
    "    a piece of information about the specified column, such as data type, null counts, \n",
    "    duplicates, descriptive statistics, and a limited set of unique values.\n",
    "    \"\"\"\n",
    "    col_data = df[column_name]\n",
    "    data_type = col_data.dtype\n",
    "    null_count = col_data.isnull().sum()\n",
    "    desc_series = col_data.describe(include='all')\n",
    "\n",
    "    if not isinstance(desc_series, pd.Series):\n",
    "        desc_series = desc_series.iloc[0]\n",
    "\n",
    "    desc_dict = {}\n",
    "    \n",
    "    for key, val in desc_series.items():\n",
    "        desc_dict[f\"{key}\"] = val\n",
    "\n",
    "    unique_vals = col_data.dropna().unique().round(2)\n",
    "\n",
    "    if np.issubdtype(col_data.dtype, np.number):\n",
    "        unique_vals = np.sort(unique_vals)\n",
    "        \n",
    "    unique_vals_limited = unique_vals[:max_unique].tolist()\n",
    "\n",
    "    info_dict = {\n",
    "        \"column_name\": column_name,\n",
    "        \"dtype\": str(data_type),\n",
    "        \"null_count\": null_count,\n",
    "        \"unique_values\": unique_vals_limited,\n",
    "        \"total_unique_values\": len(unique_vals),\n",
    "        \"skew\": df[column_name].skew(),\n",
    "    }\n",
    "    info_dict.update(desc_dict)\n",
    "\n",
    "    df_result = pd.DataFrame(\n",
    "        list(info_dict.items()),\n",
    "        columns=[\"Property\", \"Value\"]\n",
    "    )\n",
    "\n",
    "    return df_result"
   ],
   "id": "2b6b12b769b41829",
   "outputs": [],
   "execution_count": null
  },
  {
   "metadata": {},
   "cell_type": "code",
   "source": [
    "# Inspeccionar todas las columnas de un dataframe\n",
    "def inspect_all_columns(df: pd.DataFrame, max_unique: int = 50) -> pd.DataFrame:\n",
    "    \"\"\"\n",
    "    Creates a single DataFrame where each row corresponds to one column of 'df'\n",
    "    and each column of this resulting DataFrame is a property (dtype, null_count,\n",
    "    descriptive stats, etc.).\n",
    "    \"\"\"\n",
    "    rows = []\n",
    "\n",
    "    for col in df.columns:\n",
    "        col_data = df[col]\n",
    "        data_type = col_data.dtype\n",
    "        null_count = col_data.isnull().sum()\n",
    "\n",
    "        desc_series = col_data.describe(include='all')\n",
    "        if not isinstance(desc_series, pd.Series):\n",
    "            desc_series = desc_series.iloc[0]\n",
    "        desc_dict = dict(desc_series)\n",
    "\n",
    "        unique_vals = col_data.dropna().unique()\n",
    "\n",
    "        if np.issubdtype(data_type, np.number):\n",
    "            unique_vals = np.sort(unique_vals)\n",
    "            unique_vals = np.round(unique_vals, 2)\n",
    "\n",
    "        unique_vals_limited = unique_vals[:max_unique].tolist()\n",
    "\n",
    "        row_dict = {\n",
    "            \"dtype\": str(data_type),\n",
    "            \"null_count\": null_count,\n",
    "            \"unique_values\": unique_vals_limited,\n",
    "            \"total_unique_values\": len(unique_vals),\n",
    "            \"skew\": col_data.skew() if np.issubdtype(data_type, np.number) else None,\n",
    "        }\n",
    "        row_dict.update(desc_dict)\n",
    "\n",
    "        rows.append(row_dict)\n",
    "    df_result = pd.DataFrame(rows, index=df.columns)\n",
    "    df_result.index.name = \"column_name\"\n",
    "\n",
    "    return df_result"
   ],
   "id": "f8993834f9b890cc",
   "outputs": [],
   "execution_count": null
  },
  {
   "metadata": {},
   "cell_type": "code",
   "source": [
    "# Graficar la distribución de todas las variables del dataframe\n",
    "def columns_distribution(df: pd.DataFrame):\n",
    "\n",
    "    \"\"\"\n",
    "    Visualizes the distribution of columns present in a DataFrame.\n",
    "    :param df: dataframe containing columns of interest\n",
    "    \"\"\"\n",
    "    cols = df.columns\n",
    "\n",
    "    n_cols = 3\n",
    "    n_rows = math.ceil(len(cols) / n_cols)\n",
    "    fig, axes = plt.subplots(n_rows, n_cols, figsize=(n_cols * 5, n_rows * 3))\n",
    "    axes = axes.flatten()\n",
    "\n",
    "    for i, col in enumerate(cols):\n",
    "        sns.histplot(data=df, x=col, kde=True, ax=axes[i])\n",
    "        axes[i].set_title(col, fontsize=16)\n",
    "        axes[i].set_xlabel('')\n",
    "\n",
    "    for j in range(len(cols), len(axes)):\n",
    "        fig.delaxes(axes[j])\n",
    "\n",
    "    plt.tight_layout()\n",
    "    plt.subplots_adjust(hspace=0.5)\n",
    "    plt.show()"
   ],
   "id": "df479a30648c0b7d",
   "outputs": [],
   "execution_count": null
  },
  {
   "metadata": {},
   "cell_type": "code",
   "source": [
    "# Verificar columnas con las mismas filas nulas\n",
    "def check_rows_same_nulls(df: pd.DataFrame):\n",
    "    \"\"\"\n",
    "    Checks for columns with the same null rows to be deleted.\n",
    "    :param df: dataframe containing columns of interest\n",
    "    \"\"\"\n",
    "    missing_groups = {}\n",
    "    for col in df.columns:\n",
    "        missing_indices = frozenset(df.index[df[col].isnull()])\n",
    "        missing_groups.setdefault(missing_indices, []).append(col)\n",
    "\n",
    "    for missing_set, columns in missing_groups.items():\n",
    "        if len(columns) > 1:\n",
    "            print(\"Total rows with missing values:\", len(missing_set))\n",
    "            print(\"Variables with identical missing rows:\", columns)"
   ],
   "id": "aa4c1a27543c4ad0",
   "outputs": [],
   "execution_count": null
  },
  {
   "metadata": {},
   "cell_type": "markdown",
   "source": "### 1.2 Diccionario",
   "id": "68bf64aa0e9deb38"
  },
  {
   "metadata": {},
   "cell_type": "markdown",
   "source": [
    "\n",
    "\n",
    "#### Atributos Basales\n",
    "Información sobre aspectos socio-demográficos y la historia clínica de las pacientes en el momento del registro.\n",
    "\n",
    "- Age: edad, en años\n",
    "- weight: peso, en kg\n",
    "- height: altura, en cm\n",
    "- bmi: índice de masa corporal, en kg/cm$^2$\n",
    "- marital_status: estado civil, 0: soltera | 1: en pareja | 2: separada | 3: viuda\n",
    "- education: nivel de educación, 0: bajo | 1: medio | 2: alto\n",
    "- alcohol: frecuencia del consumo de alcohol, 0: nunca | 1: ocasional | 2: semanal | 3: diaria\n",
    "- smokingstatus: fumadora, 0: no | 1: si | 2: ex fumadora\n",
    "- bust: dimensión del busto, de 1 a 13 hace referencia a los centímetros desde 65 hasta 125 con saltos de 5\n",
    "- cupsize: medida del busto con relación al contorno del dorso, de 1 a 9 hace referencia a las tallas desde AA hasta H\n",
    "- menstruation_firsttime_age: edad de la primera menstruación, en años\n",
    "- menopause_yn: estado de menopausia, 0: no | 1: si\n",
    "- birth_number: cantidad de partos, de 0 a 7 indica el número, 8 indica más de 7\n",
    "- pregnancy_number: cantidad de embarazos, de 0 a 7 indica el número, 8 indica más de 7\n",
    "- comorb_none: tiene comorbidades, 0: no | 1: si\n",
    "- comorb_heart: enfermedades coronarias, 0: no | 1: si\n",
    "- comorb_hypertension: hipertensión, 0: no | 1: si\n",
    "- comorb_paod: oclusión periférica arterial, 0: no | 1: si\n",
    "- comorb_diabetes: diabetes, 0: no | 1: si\n",
    "- comorb_kidney: enfermedades renales, 0: no | 1: si\n",
    "- comorb_liver: enfermedades hepáticas, 0: no | 1: si\n",
    "- comorb_stroke: ACV o derrames, 0: no | 1: si\n",
    "- comorb_neuological: enfermedades neurológicas, 0: no | 1: si\n",
    "- comorb_cancerlast5years: cancer en los últimos 5 años, 0: no | 1: si\n",
    "- comorb_depression: depresión, 0: no | 1: si\n",
    "- comorb_gastrointestinal: enfermedades gastrointestinales, 0: no | 1: si\n",
    "- comorb_endometriosis: endometriosis, 0: no | 1: si\n",
    "- comorb_arthritis: artritis, 0: no | 1: si\n",
    "- comorb_incontinence: incontinencia, 0: no | 1: si\n",
    "- comorb_uti: infecciones urinarias, 0: no | 1: si\n",
    "- cancer_breast: cancer de mama en los últimos 5 años, 0: no | 1: si\n",
    "- contraceptive_kind: uso de anticonceptivos, 0: ninguno | 1: oral | 2: inyección | 3: diafragma | 4: Hormonal | 5: implante | 6: Cobre DIU\n",
    "- pre_op: cirugía de cancer previa, 0: no | 1: si\n",
    "- cancer_kind_family_1: anttecedentes familiares de cancer de útero o mama, 0: no | 1: si\n",
    "- breastcancer_first: primer cancer de mama, 0: no | 1: si\n",
    "- diagnosis: diagnóstico, 1: cancer de mama | 2: DCIS | 3: fibroadenoma | 4: otros tipos\n",
    "- lateral: lado afectado, 0: izquierdo | 2: derecho | 3: ambos\n",
    "- histotype: tipo histológico de cancer, 0: tumor primario | 1: invasivo ductal | 2: invasivo lobular | 888: otro | 999: desconocido\n",
    "- gradeinv: grado, 0: grado 1 | 1: grado 2 | 2: grado 3 | 3: no especificado\n",
    "- erstatus: estado del receptor de estrógeno, 0: negativo | 1: positivo | 2: sin medición | 999: desconocido\n",
    "- prstatus: estado del receptor de progesterona, 0: negativo | 1: positivo | 2: sin medición | 999: desconocido\n",
    "- her2status: estado del receptor de HER2, 0: negativo | 1: positivo | 2: sin medición | 999: desconocido"
   ],
   "id": "ca0f0d7f79c78521"
  },
  {
   "metadata": {},
   "cell_type": "markdown",
   "source": [
    "#### EORTC QLQ-C30\n",
    "Índices calculados del formulario genérico para cáncer (CORE), son de tipo decimal (float) continuo.\n",
    "\n",
    "- **ql: índice de calidad de vida (QoL), variable objetivo**\n",
    "- pf: funcionamiento físico\n",
    "- rf: funcionamiento de rol (actividades habituales y responsabilidades cotidianas laborales y domésticas)\n",
    "- ef: funcionamiento emocional\n",
    "- cf: funcionamiento cognitivo\n",
    "- sf: funcionamiento social\n",
    "- fa: fatiga\n",
    "- nv: náuseas y vómitos\n",
    "- pa: dolor\n",
    "- dy: disnea (dificultad para respirar)\n",
    "- sl: insomnio\n",
    "- ap: pérdida de apetito\n",
    "- co: constipado\n",
    "- di: diarrea\n",
    "- fi: dificultades financieras"
   ],
   "id": "6cea002dbac3cbcf"
  },
  {
   "metadata": {},
   "cell_type": "markdown",
   "source": [
    "#### EORTC QLQ-C23\n",
    "Índices calculados del formulario específico para cancer de mama, son de tipo decimal (float) continuo.\n",
    "\n",
    "- brbi: imagen del propio cuerpo\n",
    "- brsef: funcionamiento sexual\n",
    "- brsee: disfrute sexual\n",
    "- brfu: perspectiva de futuro\n",
    "- brst: síntomas en el brazo\n",
    "- brbs: síntomas en la mama\n",
    "- bras: efectos secundarios de la terápia sistémica\n",
    "- brhl: afectación por la caída del cabello\n"
   ],
   "id": "16eefb6e962445fb"
  },
  {
   "metadata": {},
   "cell_type": "code",
   "source": [
    "null_counts = df.isnull().sum()\n",
    "\n",
    "plt.figure(figsize=(12, 3))\n",
    "sns.barplot(x=null_counts.index, y=null_counts.values)\n",
    "plt.xticks(rotation=90)\n",
    "plt.ylabel('Number of Null Values')\n",
    "plt.title('Null Values per Variable')\n",
    "plt.show()"
   ],
   "id": "2fcd2cfc8234e5df",
   "outputs": [],
   "execution_count": null
  },
  {
   "metadata": {},
   "cell_type": "markdown",
   "source": [
    "### 1.2 Dominio EORTC QLQ-C30\n",
    "\n",
    "En primer lugar, se creará un dataframe con los atributos del dominio C30 y se realizará el análisis multivariable del conjunto."
   ],
   "id": "1ce3fb2dbda148c5"
  },
  {
   "metadata": {},
   "cell_type": "code",
   "source": [
    "# Creación del dataframe C30\n",
    "columns_C30 = ['id', 'ql', 'pf', 'rf', 'ef', 'cf', 'sf', 'fa', 'nv', 'pa', 'dy', 'sl', 'ap', 'co', 'di', 'fi']\n",
    "df_qlq_C30 = df[columns_C30]\n",
    "# Asignación de nombres semánticos a las columnas\n",
    "df_qlq_C30 = df_qlq_C30.rename(columns= {\n",
    "    'ql': 'QoL',\n",
    "    'pf': 'Physical functioning',\n",
    "    'rf': 'Role functioning',\n",
    "    'ef': 'Emotional functioning',\n",
    "    'cf': 'Cognitive functioning',\n",
    "    'sf': 'Social functioning',\n",
    "    'fa': 'Fatigue',\n",
    "    'nv': 'Nausea and vomiting',\n",
    "    'pa': 'Pain',\n",
    "    'dy': 'Dyspnea',\n",
    "    'sl': 'Insomnia',\n",
    "    'ap': 'Appetite loss',\n",
    "    'co': 'Constipation',\n",
    "    'di': 'Diarrhea',\n",
    "    'fi': 'Financial difficulties',\n",
    "})"
   ],
   "id": "5749d7146d0952a5",
   "outputs": [],
   "execution_count": null
  },
  {
   "metadata": {},
   "cell_type": "code",
   "source": "inspect_all_columns(df_qlq_C30, max_unique=50)",
   "id": "26a569e9ba661853",
   "outputs": [],
   "execution_count": null
  },
  {
   "metadata": {},
   "cell_type": "code",
   "source": "columns_distribution(df_qlq_C30.drop('id', axis=1))",
   "id": "1d2f0c4c6c9fb20b",
   "outputs": [],
   "execution_count": null
  },
  {
   "metadata": {},
   "cell_type": "code",
   "source": "check_rows_same_nulls(df_qlq_C30)",
   "id": "528fb3d7f778e46",
   "outputs": [],
   "execution_count": null
  },
  {
   "metadata": {},
   "cell_type": "markdown",
   "source": [
    "#### QoL - variable objetivo \n",
    "\n",
    "#### TODO "
   ],
   "id": "ed347dc6e2c78a6a"
  },
  {
   "metadata": {},
   "cell_type": "markdown",
   "source": "### 1.3 Dominio EORTC QLQ-C23",
   "id": "27b2abb2d5fdbb46"
  },
  {
   "metadata": {},
   "cell_type": "code",
   "source": [
    "# Creación del dataframe C30\n",
    "columns_C23 = ['brst', 'brbi', 'brbs', 'brfu', 'brsee', 'brsef', 'bras', 'brhl']\n",
    "df_qlq_C23 = df[columns_C23]\n",
    "# Asignación de nombres semánticos a las columnas\n",
    "df_qlq_C23 = df_qlq_C23.rename(columns= {\n",
    "    'brst': 'Arm symptoms',\n",
    "    'brbi': 'Body image',\n",
    "    'brbs': 'Breast symptoms',\n",
    "    'brfu': 'Future perspective',\n",
    "    'brsee': 'Sexual enjoyment',\n",
    "    'brsef': 'Sexual functioning',\n",
    "    'bras': 'Systemic therapy side effects',\n",
    "    'brhl': 'Upset by hair loss',\n",
    "})"
   ],
   "id": "451236fd03c94806",
   "outputs": [],
   "execution_count": null
  },
  {
   "metadata": {},
   "cell_type": "code",
   "source": "inspect_all_columns(df_qlq_C23)",
   "id": "f0e2a75fb7832d00",
   "outputs": [],
   "execution_count": null
  },
  {
   "metadata": {},
   "cell_type": "code",
   "source": "columns_distribution(df_qlq_C23)",
   "id": "cb2c7fd54921ab74",
   "outputs": [],
   "execution_count": null
  },
  {
   "metadata": {},
   "cell_type": "code",
   "source": "check_rows_same_nulls(df_qlq_C23)",
   "id": "bf91d6b987ea8c66",
   "outputs": [],
   "execution_count": null
  },
  {
   "metadata": {},
   "cell_type": "markdown",
   "source": "### 1.4 Dominio EORTC QLQ-C30 U EORTC QLQ-C23",
   "id": "c2cc192da7c6dd10"
  },
  {
   "metadata": {},
   "cell_type": "code",
   "source": [
    "df_QLQ = pd.concat([df_qlq_C30, df_qlq_C23], axis=1)\n",
    "df_QLQ.drop(['Upset by hair loss', 'Sexual enjoyment'], axis=1, inplace=True)\n",
    "df_QLQ.dropna(inplace=True)"
   ],
   "id": "af1af92b11e1eab8",
   "outputs": [],
   "execution_count": null
  },
  {
   "metadata": {},
   "cell_type": "code",
   "source": "inspect_all_columns(df_QLQ)",
   "id": "9919cc2b30e2bb93",
   "outputs": [],
   "execution_count": null
  },
  {
   "metadata": {},
   "cell_type": "code",
   "source": "columns_distribution(df_QLQ.drop('id', axis=1))",
   "id": "f815ed9a629e019b",
   "outputs": [],
   "execution_count": null
  },
  {
   "metadata": {},
   "cell_type": "code",
   "source": [
    "corr_matrix = df_QLQ.drop('id', axis=1).corr()\n",
    "\n",
    "plt.figure(figsize=(12, 10))\n",
    "sns.heatmap(corr_matrix, annot=True, cmap='coolwarm', fmt=\".2f\")\n",
    "plt.title(\"Correlation Matrix\")\n",
    "plt.show()"
   ],
   "id": "32a651e4ba67b4c6",
   "outputs": [],
   "execution_count": null
  },
  {
   "metadata": {},
   "cell_type": "code",
   "source": "",
   "id": "f3af8d2cb808670c",
   "outputs": [],
   "execution_count": null
  },
  {
   "metadata": {},
   "cell_type": "markdown",
   "source": "### 2 Preaparación de los datos",
   "id": "88759b8ef6bd9c22"
  },
  {
   "metadata": {},
   "cell_type": "code",
   "source": [
    "discretizer = KBinsDiscretizer(n_bins=3, encode='ordinal', strategy='uniform')\n",
    "df_qlq_C30_null = df_qlq_C30[df_qlq_C30.isnull().any(axis=1)].copy()\n",
    "df_qlq_C30.dropna(axis=0, inplace=True)\n",
    "df_qlq_C30['QoL_bins'] = discretizer.fit_transform(df_qlq_C30[['QoL']])\n",
    "df_qlq_C30['QoL_bins'].value_counts()"
   ],
   "id": "bc953bb05e8c9456",
   "outputs": [],
   "execution_count": null
  },
  {
   "metadata": {},
   "cell_type": "code",
   "source": [
    "# Gráfica de la distribución\n",
    "sns.histplot(data=df_qlq_C30, x='QoL_bins', kde=True)"
   ],
   "id": "b1d06d07b268aee0",
   "outputs": [],
   "execution_count": null
  },
  {
   "metadata": {},
   "cell_type": "code",
   "source": "",
   "id": "60658a78d1d7dbd8",
   "outputs": [],
   "execution_count": null
  }
 ],
 "metadata": {
  "kernelspec": {
   "display_name": "Python 3",
   "language": "python",
   "name": "python3"
  },
  "language_info": {
   "codemirror_mode": {
    "name": "ipython",
    "version": 2
   },
   "file_extension": ".py",
   "mimetype": "text/x-python",
   "name": "python",
   "nbconvert_exporter": "python",
   "pygments_lexer": "ipython2",
   "version": "2.7.6"
  }
 },
 "nbformat": 4,
 "nbformat_minor": 5
}
