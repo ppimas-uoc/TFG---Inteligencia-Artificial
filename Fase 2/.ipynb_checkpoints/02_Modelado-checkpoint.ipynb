{
 "cells": [
  {
   "metadata": {},
   "cell_type": "markdown",
   "source": [
    "<!--Header-->\n",
    "<div style=\"background-color: #fff; color: black\">\n",
    "    <div style=\"padding-bottom: 20px; display: flex; justify-content: space-between; align-items: flex-start;\">\n",
    "        <div style=\"width: 60%;\">\n",
    "            <h1 style=\"margin: 16px\">TFG - Inteligencia Artificial</h1>\n",
    "            <p style=\"margin: 16px; padding-bottom: 0\">Junio de 2025</p>\n",
    "        </div>\n",
    "        <div style=\"width: 40%; text-align: right\">\n",
    "            <img src=\"https://www.uoc.edu/portal/_resources/common/imatges/marca_UOC/UOC_Masterbrand.jpg\" alt=\"Logo UOC\">\n",
    "        </div>\n",
    "    </div>\n",
    "    <h2 style=\"text-align: justify; padding: 0 16px\">Aplicación de técnicas de IA fiable en la predicción del índice de calidad de vida en personas con tratamiento oncológico mediante aprendizaje automático.</h2>\n",
    "    <div style=\"background-color: #000; width: 100%; height: 2px; margin: 24px 0\"></div>\n",
    "    <div style=\"padding: 20px\">\n",
    "        <h4 style=\"margin: 0 0; padding: 0 0\">Pablo Pimàs Verge</h4>\n",
    "        <h5 style=\"margin: 0 0; padding: 0 0\">Grado en Ingeniería Informática</h5>\n",
    "        <h5 style=\"margin: 0 0 4px; padding: 0 0\">Inteligencia Artificial</h5>\n",
    "        <h4 style=\"margin: 8px 0 4px; padding: 0 0\">Dra. María Moreno de Castro</h4>\n",
    "        <h4 style=\"margin: 0 0; padding: 0 0\">Dr. Friman Sanchéz</h4>\n",
    "    </div>\n",
    "</div>\n",
    "\n",
    "<!--/Header-->"
   ],
   "id": "613121149918fc82"
  },
  {
   "metadata": {},
   "cell_type": "markdown",
   "source": [
    "# Fase 2\n",
    "#### Segunda Parte\n",
    "##### - Entrenamiento de modelos\n",
    "##### - Aplicación del modelo óptimo\n",
    "\n",
    "# Modelado\n",
    "\n",
    "El problema planteado es una clasificación multiclase del índice de calidad de vida (QoL) en personas con tratamiento oncológico. En la primera parte se ha realizado el análisis exploratorio de datos y la preparación [1]. En el análisis se han identificado dos tipos de predictores: las variables que informan aspectos de funcionamiento e inciden positivamente en el QoL; y las variables que informan síntomas, producidos por la enfermedad o el tratamiento, e inciden negativamente en el QoL. Por razones prácticas, nombraremos a estos dos tipos variables directas y variables inversas respectivamente. Con respecto a la preparación, se ha reducido la variable calidad de vida QoL a 3 clases para mejorar la clasificación y dotarla de sentido semántico, estas son: 0 (baja), 1 (media) y 2 (alta). Además, del conjunto inicial con 1727 observaciones, se han eliminado 249 filas con valores nulos en todas las columnas y 4 filas con valores nulos en las variables del dominio C23. Por último, también se han eliminado las variables Upset by hair loss y Sexual enjoyment por contener más de un 60% de valores nulos. Por lo tanto, el conjunto resultante contiene 1474 observaciones compuestas por 20 predictores y la variable objetivo.\n",
    "\n",
    "Este cuaderno corresponde a la segunda parte de la fase 2 del plan de trabajo del TFG. Se aborda el entrenamiento y la aplicación de los modelos previstos al conjunto de datos resultante de la preparación. Estas tareas corresponden a la fase de modelado en el marco de CRISP-DM.\n",
    "\n",
    "\n",
    "### Objetivos\n",
    "\n",
    "En el presente cuaderno se realizarán las siguientes acciones: \n",
    "\n",
    "- Separar los datos de df_C30_C23 en los conjuntos de: entrenamiento, prueba, validación y calibración\n",
    "- Entrenar y aplicar los siguientes modelos:\n",
    "\n",
    "### Índice\n",
    "\n",
    "1. Entrenamiento y clasificación\n",
    "    - modelo 1\n",
    "    - modelo 2\n",
    "    - modelo 3 \n",
    "    - modelo 4\n",
    "2. Selección del modelo óptimo"
   ],
   "id": "6a7838e689a448cb"
  },
  {
   "metadata": {},
   "cell_type": "markdown",
   "source": "### Importaciones",
   "id": "e263f2c9ace1a14c"
  },
  {
   "metadata": {
    "ExecuteTime": {
     "end_time": "2025-04-05T11:16:25.664550Z",
     "start_time": "2025-04-05T11:16:24.265241Z"
    }
   },
   "cell_type": "code",
   "source": [
    "# Importaciones de librerías\n",
    "import pandas as pd\n",
    "import seaborn as sns\n",
    "import matplotlib.pyplot as plt\n",
    "import warnings\n",
    "from sklearn.model_selection import train_test_split\n",
    "\n",
    "# Funciones auxiliares\n",
    "import aux_functions as afn"
   ],
   "id": "24d1ae31326e5e65",
   "outputs": [],
   "execution_count": 1
  },
  {
   "metadata": {
    "ExecuteTime": {
     "end_time": "2025-04-05T11:16:25.683922Z",
     "start_time": "2025-04-05T11:16:25.670061Z"
    }
   },
   "cell_type": "code",
   "source": [
    "# Configuraciones\n",
    "%matplotlib inline\n",
    "warnings.filterwarnings(\"ignore\")\n",
    "pd.options.display.float_format = '{:.2f}'.format\n",
    "plt.rc('font', size=10)\n",
    "plt.rcParams[\"legend.frameon\"] = False\n",
    "sns.set_theme(\n",
    "    style=\"white\",\n",
    "    palette=\"viridis\",\n",
    "    rc={\n",
    "        \"axes.spines.left\": False,\n",
    "        \"axes.spines.bottom\": False,\n",
    "        \"axes.spines.right\": False,\n",
    "        \"axes.spines.top\": False\n",
    "    }\n",
    ")\n",
    "sns.set_style(\"white\", {\"axes.grid\": False})"
   ],
   "id": "61d32148d251e122",
   "outputs": [],
   "execution_count": 2
  },
  {
   "metadata": {},
   "cell_type": "markdown",
   "source": "### Carga de los datos",
   "id": "34aa527bec8650ee"
  },
  {
   "metadata": {
    "ExecuteTime": {
     "end_time": "2025-04-05T11:16:25.750115Z",
     "start_time": "2025-04-05T11:16:25.740764Z"
    }
   },
   "cell_type": "code",
   "source": [
    "# Carga de los datos en un dataframe de Pandas a partir del conjunto generado en la fase previa en formato csv\n",
    "file_path = \"./data/QLQ_C30_C23.csv\"\n",
    "df = pd.read_csv(file_path)\n",
    "# Filas duplicadas\n",
    "print('Total de observaciones sin duplicados: ', df.duplicated().count())"
   ],
   "id": "8a4821212640e7f2",
   "outputs": [
    {
     "name": "stdout",
     "output_type": "stream",
     "text": [
      "Total de observaciones sin duplicados:  1474\n"
     ]
    }
   ],
   "execution_count": 3
  },
  {
   "metadata": {
    "ExecuteTime": {
     "end_time": "2025-04-05T11:16:25.775555Z",
     "start_time": "2025-04-05T11:16:25.769932Z"
    }
   },
   "cell_type": "code",
   "source": [
    "# Comprobamos que el conjunto importado contiene las 1474 observaciones sin valores faltantes y las 21 variables de tipo decimal (float)\n",
    "df.info()"
   ],
   "id": "640b7297042ae697",
   "outputs": [
    {
     "name": "stdout",
     "output_type": "stream",
     "text": [
      "<class 'pandas.core.frame.DataFrame'>\n",
      "RangeIndex: 1474 entries, 0 to 1473\n",
      "Data columns (total 21 columns):\n",
      " #   Column                         Non-Null Count  Dtype  \n",
      "---  ------                         --------------  -----  \n",
      " 0   QoL                            1474 non-null   float64\n",
      " 1   Physical functioning           1474 non-null   float64\n",
      " 2   Role functioning               1474 non-null   float64\n",
      " 3   Emotional functioning          1474 non-null   float64\n",
      " 4   Cognitive functioning          1474 non-null   float64\n",
      " 5   Social functioning             1474 non-null   float64\n",
      " 6   Fatigue                        1474 non-null   float64\n",
      " 7   Nausea and vomiting            1474 non-null   float64\n",
      " 8   Pain                           1474 non-null   float64\n",
      " 9   Dyspnea                        1474 non-null   float64\n",
      " 10  Insomnia                       1474 non-null   float64\n",
      " 11  Appetite loss                  1474 non-null   float64\n",
      " 12  Constipation                   1474 non-null   float64\n",
      " 13  Diarrhea                       1474 non-null   float64\n",
      " 14  Financial difficulties         1474 non-null   float64\n",
      " 15  Arm symptoms                   1474 non-null   float64\n",
      " 16  Body image                     1474 non-null   float64\n",
      " 17  Breast symptoms                1474 non-null   float64\n",
      " 18  Future perspective             1474 non-null   float64\n",
      " 19  Sexual functioning             1474 non-null   float64\n",
      " 20  Systemic therapy side effects  1474 non-null   float64\n",
      "dtypes: float64(21)\n",
      "memory usage: 242.0 KB\n"
     ]
    }
   ],
   "execution_count": 4
  },
  {
   "metadata": {},
   "cell_type": "markdown",
   "source": [
    "### 1. Creación de los conjuntos de entrenamiento, prueba y calibración\n",
    "\n",
    "Para la división de los conjuntos de entrenamiento y pruebe aplicaremos una proporción de 75-25 con estratificación para asegurar que las clases de la variable objetivo se distribuyen uniformemente en todos los conjuntos. \n"
   ],
   "id": "4491bf4acf85ee65"
  },
  {
   "metadata": {
    "ExecuteTime": {
     "end_time": "2025-04-05T11:16:25.872761Z",
     "start_time": "2025-04-05T11:16:25.865275Z"
    }
   },
   "cell_type": "code",
   "source": [
    "# Extracción de las variables independientes en un dataframe y de la variable dependiente en una serie\n",
    "X = df.drop('QoL', axis=1)\n",
    "y = df['QoL']\n",
    "# División de los datos en entrenamiento y prueba \n",
    "X_train_all, X_test_all, y_train_all, y_test_all = train_test_split(X, y, test_size=0.25, stratify=y, random_state=73)\n",
    "# Division de los datos de entrenamiento y validación\n",
    "X_train, X_val, y_train, y_val = train_test_split(X_train_all, y_train_all, test_size=0.25, stratify=y_train_all, random_state=73)"
   ],
   "id": "bb3a965ccdca6854",
   "outputs": [],
   "execution_count": 5
  },
  {
   "metadata": {},
   "cell_type": "markdown",
   "source": "Con el fin de cuantificar la incertidumbre del modelo en la próxima etapa, es necesario reservar un subconjunto de los datos, que se utilizarán para realizar la calibración. Para ello, separamos un 20% del conjunto de prueba, ya que el modelo no debe conocerlos durante el entrenamiento.",
   "id": "b18e041eb6ad5475"
  },
  {
   "metadata": {
    "ExecuteTime": {
     "end_time": "2025-04-05T11:16:25.896758Z",
     "start_time": "2025-04-05T11:16:25.893319Z"
    }
   },
   "cell_type": "code",
   "source": [
    "# Reserva de los datos para la calibración\n",
    "X_test, X_cal, y_test, y_cal = train_test_split(X_test_all, y_test_all, test_size=0.20, stratify=y_test_all, random_state=73)"
   ],
   "id": "bbbcb5a67c919371",
   "outputs": [],
   "execution_count": 6
  },
  {
   "metadata": {},
   "cell_type": "markdown",
   "source": "Una vez dispuestos todos los conjuntos necesarios, mediante la función auxiliar viz_split_distributions realizaremos una comprobación de la distribución de las 3 clases en cada uno de ellos. ",
   "id": "5c381888a19e0ea3"
  },
  {
   "metadata": {
    "ExecuteTime": {
     "end_time": "2025-04-05T11:16:26.089258Z",
     "start_time": "2025-04-05T11:16:25.921195Z"
    }
   },
   "cell_type": "code",
   "source": "afn.viz_split_distributions([df['QoL'], y_train, y_val, y_test, y_cal], ['QLQ_C30_C23', 'Train', 'Validation', 'Test', 'Calibration'])",
   "id": "4dfea8367185ae04",
   "outputs": [
    {
     "data": {
      "text/plain": [
       "<Figure size 1350x500 with 1 Axes>"
      ],
      "image/png": "[encoded data removed]"
     },
     "metadata": {},
     "output_type": "display_data"
    }
   ],
   "execution_count": 7
  },
  {
   "metadata": {
    "ExecuteTime": {
     "end_time": "2025-04-05T11:16:26.137199Z",
     "start_time": "2025-04-05T11:16:26.134073Z"
    }
   },
   "cell_type": "code",
   "source": "",
   "id": "56b87c5d71089bda",
   "outputs": [],
   "execution_count": null
  }
 ],
 "metadata": {
  "kernelspec": {
   "display_name": "Python 3",
   "language": "python",
   "name": "python3"
  },
  "language_info": {
   "codemirror_mode": {
    "name": "ipython",
    "version": 2
   },
   "file_extension": ".py",
   "mimetype": "text/x-python",
   "name": "python",
   "nbconvert_exporter": "python",
   "pygments_lexer": "ipython2",
   "version": "2.7.6"
  }
 },
 "nbformat": 4,
 "nbformat_minor": 5
}
