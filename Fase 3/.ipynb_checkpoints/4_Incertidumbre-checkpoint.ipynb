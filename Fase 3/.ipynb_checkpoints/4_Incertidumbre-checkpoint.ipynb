{
 "cells": [
  {
   "metadata": {},
   "cell_type": "markdown",
   "source": [
    "<!--Header-->\n",
    "<div style=\"background-color: #fff; color: black\">\n",
    "<div style=\"padding-bottom: 20px; display: flex; justify-content: space-between; align-items: flex-start;\">\n",
    "<div style=\"width: 60%;\">\n",
    "<h1 style=\"margin: 16px\">TFG - Inteligencia Artificial</h1>\n",
    "<p style=\"margin: 16px; padding-bottom: 0\">Junio de 2025</p>\n",
    "</div>\n",
    "<div style=\"width: 40%; text-align: right\">\n",
    "<img src=\"https://www.uoc.edu/portal/_resources/common/imatges/marca_UOC/UOC_Masterbrand.jpg\" alt=\"Logo UOC\">\n",
    "</div>\n",
    "</div>\n",
    "<h2 style=\"text-align: justify; padding: 0 16px\">Aplicación de técnicas de IA fiable en la predicción del índice de calidad de vida en personas con tratamiento oncológico mediante aprendizaje automático.</h2>\n",
    "<div style=\"background-color: #000; width: 100%; height: 2px; margin: 24px 0\"></div>\n",
    "<div style=\"padding: 20px\">\n",
    "<h4 style=\"margin: 0 0; padding: 0 0\">Pablo Pimàs Verge</h4>\n",
    "<h5 style=\"margin: 0 0; padding: 0 0\">Grado en Ingeniería Informática</h5>\n",
    "<h5 style=\"margin: 0 0 4px; padding: 0 0\">Inteligencia Artificial</h5>\n",
    "<h4 style=\"margin: 8px 0 4px; padding: 0 0\">Dra. María Moreno de Castro</h4>\n",
    "<h4 style=\"margin: 0 0; padding: 0 0\">Dr. Friman Sanchéz</h4>\n",
    "</div>\n",
    "</div>"
   ],
   "id": "d9b779aab2d32043"
  },
  {
   "metadata": {},
   "cell_type": "markdown",
   "source": [
    "# Fase 3\n",
    "\n",
    "## Cuantificación de la incertidumbre del modelo\n"
   ],
   "id": "9ba4e61b423eb48e"
  },
  {
   "metadata": {},
   "cell_type": "markdown",
   "source": "",
   "id": "9e1d8b67f82b05c2"
  },
  {
   "metadata": {},
   "cell_type": "markdown",
   "source": "### Importaciones y Configuraciones",
   "id": "3c7acdfe74b4ef2e"
  },
  {
   "metadata": {
    "ExecuteTime": {
     "end_time": "2025-04-28T15:16:54.785390Z",
     "start_time": "2025-04-28T15:16:53.135256Z"
    }
   },
   "cell_type": "code",
   "source": [
    "# Importaciones de librerías básicas\n",
    "import joblib\n",
    "import pandas as pd\n",
    "import numpy as np\n",
    "from matplotlib import pyplot as plt\n",
    "import seaborn as sns\n",
    "import warnings\n",
    "\n",
    "# Importaciones de Scikit-learn \n",
    "from sklearn.metrics import accuracy_score, recall_score, precision_score, f1_score, roc_auc_score\n",
    "from sklearn.metrics import ConfusionMatrixDisplay, classification_report, confusion_matrix\n",
    "from sklearn.model_selection import FixedThresholdClassifier\n",
    "from sklearn.metrics import brier_score_loss, log_loss\n",
    "from sklearn.calibration import CalibratedClassifierCV\n",
    "\n",
    "# Librerías XAI\n",
    "import shap\n",
    "import dice_ml as dice\n",
    "\n",
    "# Funciones auxiliares\n",
    "import aux_functions as afn"
   ],
   "id": "8f267e649be453a2",
   "outputs": [],
   "execution_count": 2
  },
  {
   "metadata": {
    "ExecuteTime": {
     "end_time": "2025-04-28T15:16:55.603948Z",
     "start_time": "2025-04-28T15:16:55.582226Z"
    }
   },
   "cell_type": "code",
   "source": [
    "%matplotlib inline\n",
    "warnings.filterwarnings(\"ignore\")\n",
    "pd.options.display.float_format = '{:.2f}'.format\n",
    "plt.rc('font', size=10)\n",
    "plt.rcParams[\"legend.frameon\"] = False\n",
    "sns.set_theme(\n",
    "    style=\"white\",\n",
    "    palette=\"viridis\",\n",
    "    rc={\n",
    "        \"axes.spines.left\": False,\n",
    "        \"axes.spines.bottom\": False,\n",
    "        \"axes.spines.right\": False,\n",
    "        \"axes.spines.top\": False\n",
    "    }\n",
    ")\n",
    "sns.set_style(\"white\", {\"axes.grid\": False})"
   ],
   "id": "f65343ff5a304945",
   "outputs": [],
   "execution_count": 3
  },
  {
   "metadata": {},
   "cell_type": "markdown",
   "source": [
    "### Carga de datos\n",
    "\n",
    "Cargamos los conjuntos de datos que se han generado en la fase de modelado para la clasificación binaria. "
   ],
   "id": "d1b26e6f3f376285"
  },
  {
   "metadata": {
    "ExecuteTime": {
     "end_time": "2025-04-28T15:18:21.083849Z",
     "start_time": "2025-04-28T15:18:21.071523Z"
    }
   },
   "cell_type": "code",
   "source": [
    "X_train = pd.read_csv('../Fase 2/data/QLQ_C30_C23_X_train.csv')\n",
    "X_test = pd.read_csv('../Fase 2/data/QLQ_C30_C23_X_test.csv')\n",
    "y_train = pd.read_csv('../Fase 2/data/QLQ_C30_C23_y_train.csv').squeeze()\n",
    "y_test = pd.read_csv('../Fase 2/data/QLQ_C30_C23_y_test.csv').squeeze()"
   ],
   "id": "188ceaa4691ba923",
   "outputs": [],
   "execution_count": 7
  },
  {
   "metadata": {},
   "cell_type": "markdown",
   "source": [
    "### Carga del modelo seleccionado\n",
    "\n",
    "Se carga el modelo final entrenado durante la fase de clasificación binaria. El modelo ha sido previamente almacenado en un archivo serializado (best_bundle.pkl), que incluye tanto el clasificador como el umbral de decisión óptimo identificado durante el ajuste final.\n",
    "\n",
    "Luego, se utiliza la clase FixedThresholdClassifier para crear una instancia del modelo que aplica el umbral personalizado directamente sobre las probabilidades predichas (predict_proba). De esta forma, se garantiza que todas las explicaciones posteriores reflejen fielmente el comportamiento real del clasificador tal y como fue evaluado, sin depender del umbral por defecto."
   ],
   "id": "f5bf768ce77bb07b"
  },
  {
   "metadata": {
    "ExecuteTime": {
     "end_time": "2025-04-28T15:19:24.309317Z",
     "start_time": "2025-04-28T15:19:24.146207Z"
    }
   },
   "cell_type": "code",
   "source": [
    "bundle = joblib.load('../Fase 2/models/best_bundle.pkl')\n",
    "model = bundle['model']\n",
    "threshold = bundle['threshold']\n",
    "model_thresholded = FixedThresholdClassifier(model, threshold=threshold, response_method=\"predict_proba\").fit(X_train, y_train)"
   ],
   "id": "6cad0f0ae536fae6",
   "outputs": [],
   "execution_count": 9
  },
  {
   "metadata": {},
   "cell_type": "markdown",
   "source": "## 1. Calibración",
   "id": "ed53fcf01150c14a"
  },
  {
   "metadata": {},
   "cell_type": "code",
   "outputs": [],
   "execution_count": null,
   "source": "",
   "id": "64952bd1807bad79"
  }
 ],
 "metadata": {
  "kernelspec": {
   "display_name": "Python 3",
   "language": "python",
   "name": "python3"
  },
  "language_info": {
   "codemirror_mode": {
    "name": "ipython",
    "version": 2
   },
   "file_extension": ".py",
   "mimetype": "text/x-python",
   "name": "python",
   "nbconvert_exporter": "python",
   "pygments_lexer": "ipython2",
   "version": "2.7.6"
  }
 },
 "nbformat": 4,
 "nbformat_minor": 5
}
